{
 "cells": [
  {
   "cell_type": "markdown",
   "metadata": {},
   "source": [
    "# Embeddings With Sentence-Transformers\n",
    "\n",
    "We've worked through creating our embeddings using the `transformers` library - and at times it can be quite involved. Now, it's important to understand the steps, but we can make life easier by using the `sentence-transformers` library.\n",
    "\n",
    "We'll work through the same process - but using `sentence-transformers` instead."
   ]
  },
  {
   "cell_type": "code",
   "execution_count": 1,
   "metadata": {},
   "outputs": [],
   "source": [
    "sentences = [\n",
    "    \"Three years later, the coffin was still full of Jello.\",\n",
    "    \"The fish dreamed of escaping the fishbowl and into the toilet where he saw his friend go.\",\n",
    "    \"The person box was packed with jelly many dozens of months later.\",\n",
    "    \"Standing on one's head at job interviews forms a lasting impression.\",\n",
    "    \"It took him a month to finish the meal.\",\n",
    "    \"He found a leprechaun in his walnut shell.\"\n",
    "]\n",
    "\n",
    "# thanks to https://randomwordgenerator.com/sentence.php"
   ]
  },
  {
   "cell_type": "markdown",
   "metadata": {},
   "source": [
    "Initialize our model:"
   ]
  },
  {
   "cell_type": "code",
   "execution_count": 2,
   "metadata": {},
   "outputs": [
    {
     "name": "stderr",
     "output_type": "stream",
     "text": [
      "100%|██████████| 405M/405M [04:38<00:00, 1.45MB/s]   \n"
     ]
    }
   ],
   "source": [
    "from sentence_transformers import SentenceTransformer\n",
    "\n",
    "model = SentenceTransformer('bert-base-nli-mean-tokens')"
   ]
  },
  {
   "cell_type": "markdown",
   "metadata": {},
   "source": [
    "Encode the sentences:"
   ]
  },
  {
   "cell_type": "code",
   "execution_count": 3,
   "metadata": {},
   "outputs": [],
   "source": [
    "sentence_embeddings = model.encode(sentences)"
   ]
  },
  {
   "cell_type": "code",
   "execution_count": 4,
   "metadata": {},
   "outputs": [
    {
     "data": {
      "text/plain": [
       "(6, 768)"
      ]
     },
     "execution_count": 4,
     "metadata": {},
     "output_type": "execute_result"
    }
   ],
   "source": [
    "sentence_embeddings.shape"
   ]
  },
  {
   "cell_type": "code",
   "execution_count": 5,
   "metadata": {},
   "outputs": [
    {
     "data": {
      "text/plain": [
       "array([[ 0.07446171,  0.86369693,  0.17946371, ...,  0.77344   ,\n",
       "         1.7247483 , -0.18027493],\n",
       "       [-0.37146327,  0.9729013 ,  1.0839938 , ..., -0.25521296,\n",
       "        -0.2759374 ,  0.03575883],\n",
       "       [-0.50298226,  0.7949857 , -0.12402534, ...,  0.14406258,\n",
       "         0.97037524, -0.17911561],\n",
       "       [-0.01324326,  0.9772864 ,  1.4515939 , ..., -0.846165  ,\n",
       "        -1.400432  , -0.41184354],\n",
       "       [-0.20192651,  0.05970366,  0.86027384, ..., -0.01000804,\n",
       "         0.8430624 , -0.084077  ],\n",
       "       [-0.2131194 ,  1.0174934 , -0.88327605, ...,  0.73710364,\n",
       "         0.19469155, -0.30111244]], dtype=float32)"
      ]
     },
     "execution_count": 5,
     "metadata": {},
     "output_type": "execute_result"
    }
   ],
   "source": [
    "sentence_embeddings"
   ]
  },
  {
   "cell_type": "markdown",
   "metadata": {},
   "source": [
    "And no we have our sentence embeddings - a much quicker approach. We then compare just as we did before using cosine similarity:"
   ]
  },
  {
   "cell_type": "code",
   "execution_count": 6,
   "metadata": {},
   "outputs": [],
   "source": [
    "from sklearn.metrics.pairwise import cosine_similarity"
   ]
  },
  {
   "cell_type": "markdown",
   "metadata": {},
   "source": [
    "Let's calculate cosine similarity for sentence `0`:"
   ]
  },
  {
   "cell_type": "code",
   "execution_count": 7,
   "metadata": {},
   "outputs": [
    {
     "data": {
      "text/plain": [
       "array([[0.33088925, 0.7219258 , 0.17475504, 0.4470966 , 0.5548365 ]],\n",
       "      dtype=float32)"
      ]
     },
     "execution_count": 7,
     "metadata": {},
     "output_type": "execute_result"
    }
   ],
   "source": [
    "cosine_similarity(\n",
    "    [sentence_embeddings[0]],\n",
    "    sentence_embeddings[1:]\n",
    ")"
   ]
  },
  {
   "cell_type": "markdown",
   "metadata": {},
   "source": [
    "These similarities translate to almost the exact same values as we calculated before:\n",
    "\n",
    "| Index | Sentence | Similarity (before) | New similarity |\n",
    "| --- | --- | --- | --- |\n",
    "| 1 | \"The fish dreamed of escaping the fishbowl and into the toilet where he saw his friend go.\" | 0.3309 | 0.3309 |\n",
    "| 2 | \"The person box was packed with jelly many dozens of months later.\" | 0.7219 | 0.7219 |\n",
    "| 3 | \"Standing on one's head at job interviews forms a lasting impression.\" | 0.1748 | 0.174**7** |\n",
    "| 4 | \"It took him a month to finish the meal.\" | 0.4471 | 0.447**2** |\n",
    "| 5 | \"He found a leprechaun in his walnut shell.\" | 0.5548 | 0.554**7** |\n",
    "\n",
    "So, using `sentence-transformers` can make life much easier. But either option produces the same outcome."
   ]
  },
  {
   "cell_type": "markdown",
   "metadata": {},
   "source": []
  }
 ],
 "metadata": {
  "kernelspec": {
   "display_name": "ML",
   "language": "python",
   "name": "ml"
  },
  "language_info": {
   "codemirror_mode": {
    "name": "ipython",
    "version": 3
   },
   "file_extension": ".py",
   "mimetype": "text/x-python",
   "name": "python",
   "nbconvert_exporter": "python",
   "pygments_lexer": "ipython3",
   "version": "3.8.5"
  }
 },
 "nbformat": 4,
 "nbformat_minor": 4
}
