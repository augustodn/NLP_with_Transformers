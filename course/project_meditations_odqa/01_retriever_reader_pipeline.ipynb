{
 "cells": [
  {
   "cell_type": "markdown",
   "metadata": {},
   "source": [
    "# Retriever Reader Pipeline\n",
    "\n",
    "We've setup our Elasticsearch instance and are now ready to prepare the remainder of our ODQA pipeline - our *retriever* and *reader*.\n",
    "\n",
    "First we initialize the connection to our Elasticsearch document store."
   ]
  },
  {
   "cell_type": "code",
   "execution_count": 1,
   "metadata": {},
   "outputs": [
    {
     "name": "stderr",
     "output_type": "stream",
     "text": [
      "03/16/2022 08:22:01 - INFO - faiss -   Loading faiss.\n",
      "03/16/2022 08:22:05 - INFO - elasticsearch -   HEAD http://localhost:9200/aurelius [status:200 request:0.014s]\n",
      "03/16/2022 08:22:05 - INFO - elasticsearch -   GET http://localhost:9200/aurelius [status:200 request:0.003s]\n",
      "03/16/2022 08:22:05 - INFO - elasticsearch -   PUT http://localhost:9200/aurelius/_mapping [status:200 request:0.020s]\n",
      "03/16/2022 08:22:05 - INFO - elasticsearch -   HEAD http://localhost:9200/label [status:200 request:0.002s]\n"
     ]
    }
   ],
   "source": [
    "from haystack.document_store.elasticsearch import ElasticsearchDocumentStore\n",
    "\n",
    "doc_store = ElasticsearchDocumentStore(\n",
    "    host='localhost',\n",
    "    username='', password='',\n",
    "    index='aurelius'\n",
    ")"
   ]
  },
  {
   "cell_type": "markdown",
   "metadata": {},
   "source": [
    "Then we initialize our retriever and reader models. We will be using [deepset/bert-base-cased-squad2](https://huggingface.co/deepset/bert-base-cased-squad2) as our reader model."
   ]
  },
  {
   "cell_type": "code",
   "execution_count": 2,
   "metadata": {},
   "outputs": [
    {
     "name": "stderr",
     "output_type": "stream",
     "text": [
      "03/16/2022 08:22:24 - INFO - farm.utils -   Using device: CPU \n",
      "03/16/2022 08:22:24 - INFO - farm.utils -   Number of GPUs: 0\n",
      "03/16/2022 08:22:24 - INFO - farm.utils -   Distributed Training: False\n",
      "03/16/2022 08:22:24 - INFO - farm.utils -   Automatic Mixed Precision: None\n",
      "03/16/2022 08:22:40 - WARNING - farm.utils -   ML Logging is turned off. No parameters, metrics or artifacts will be logged to MLFlow.\n",
      "03/16/2022 08:22:40 - INFO - farm.utils -   Using device: CPU \n",
      "03/16/2022 08:22:40 - INFO - farm.utils -   Number of GPUs: 0\n",
      "03/16/2022 08:22:40 - INFO - farm.utils -   Distributed Training: False\n",
      "03/16/2022 08:22:40 - INFO - farm.utils -   Automatic Mixed Precision: None\n",
      "03/16/2022 08:22:40 - INFO - farm.infer -   Got ya 7 parallel workers to do inference ...\n",
      "03/16/2022 08:22:40 - INFO - farm.infer -    0    0    0    0    0    0    0 \n",
      "03/16/2022 08:22:40 - INFO - farm.infer -   /w\\  /w\\  /w\\  /w\\  /w\\  /w\\  /w\\\n",
      "03/16/2022 08:22:40 - INFO - farm.infer -   /'\\  / \\  /'\\  /'\\  / \\  / \\  /'\\\n",
      "03/16/2022 08:22:40 - INFO - farm.infer -               \n"
     ]
    }
   ],
   "source": [
    "from haystack.retriever.sparse import ElasticsearchRetriever\n",
    "from haystack.reader.farm import FARMReader\n",
    "\n",
    "retriever = ElasticsearchRetriever(doc_store)  # BM25\n",
    "reader = FARMReader(model_name_or_path='deepset/bert-base-cased-squad2',\n",
    "                    context_window_size=1500,\n",
    "                    use_gpu=True)"
   ]
  },
  {
   "cell_type": "markdown",
   "metadata": {},
   "source": [
    "And now we initialize our ODQA pipeline."
   ]
  },
  {
   "cell_type": "code",
   "execution_count": 3,
   "metadata": {},
   "outputs": [],
   "source": [
    "from haystack.pipeline import ExtractiveQAPipeline\n",
    "\n",
    "qa = ExtractiveQAPipeline(reader=reader, retriever=retriever)"
   ]
  },
  {
   "cell_type": "markdown",
   "metadata": {},
   "source": [
    "Now we can begin asking questions!"
   ]
  },
  {
   "cell_type": "code",
   "execution_count": 4,
   "metadata": {
    "scrolled": true
   },
   "outputs": [
    {
     "name": "stderr",
     "output_type": "stream",
     "text": [
      "03/16/2022 08:24:08 - INFO - elasticsearch -   POST http://localhost:9200/aurelius/_search [status:200 request:0.056s]\n",
      "Inferencing Samples:   0%|          | 0/1 [00:00<?, ? Batches/s]/usr/local/Caskroom/miniconda/base/envs/ml/lib/python3.8/site-packages/farm/modeling/prediction_head.py:1112: UserWarning: __floordiv__ is deprecated, and its behavior will change in a future version of pytorch. It currently rounds toward 0 (like the 'trunc' function NOT 'floor'). This results in incorrect rounding for negative values. To keep the current behavior, use torch.div(a, b, rounding_mode='trunc'), or for actual floor division, use torch.div(a, b, rounding_mode='floor').\n",
      "  start_indices = flat_sorted_indices // max_seq_len\n",
      "Inferencing Samples: 100%|██████████| 1/1 [00:00<00:00,  1.40 Batches/s]\n",
      "Inferencing Samples: 100%|██████████| 1/1 [00:00<00:00,  1.75 Batches/s]\n",
      "Inferencing Samples: 100%|██████████| 1/1 [00:00<00:00,  1.76 Batches/s]\n",
      "Inferencing Samples: 100%|██████████| 1/1 [00:00<00:00,  1.77 Batches/s]\n",
      "Inferencing Samples: 100%|██████████| 1/1 [00:00<00:00,  1.78 Batches/s]\n",
      "Inferencing Samples: 100%|██████████| 1/1 [00:00<00:00,  1.77 Batches/s]\n",
      "Inferencing Samples: 100%|██████████| 1/1 [00:00<00:00,  1.77 Batches/s]\n",
      "Inferencing Samples: 100%|██████████| 1/1 [00:00<00:00,  1.78 Batches/s]\n",
      "Inferencing Samples: 100%|██████████| 1/1 [00:00<00:00,  1.78 Batches/s]\n",
      "Inferencing Samples: 100%|██████████| 1/1 [00:00<00:00,  1.78 Batches/s]\n"
     ]
    },
    {
     "data": {
      "text/plain": [
       "{'query': 'What did your grandfather teach?',\n",
       " 'no_ans_gap': -3.1212520599365234,\n",
       " 'answers': [{'answer': 'good morals and the government of my temper',\n",
       "   'score': 5.546537399291992,\n",
       "   'probability': 0.6667044421188743,\n",
       "   'context': 'From my grandfather Verus I learned good morals and the government of my temper.',\n",
       "   'offset_start': 36,\n",
       "   'offset_end': 79,\n",
       "   'offset_start_in_doc': 36,\n",
       "   'offset_end_in_doc': 79,\n",
       "   'document_id': '6477c2fc-04d1-45a3-9eba-6a9b6ee16112',\n",
       "   'meta': {'source': 'meditations'}},\n",
       "  {'answer': 'self-government',\n",
       "   'score': 1.488312005996704,\n",
       "   'probability': 0.5463760689986955,\n",
       "   'context': 'From Maximus I learned self-government, and not to be led aside by anything; and cheerfulness in all circumstances, as well as in illness; and a just admixture in the moral character of sweetness and dignity, and to do what was set before me without complaining. I observed that everybody believed that he thought as he spoke, and that in all that he did he never had any bad intention; and he never showed amazement and surprise, and was never in a hurry, and never put off doing a thing, nor was perplexed nor dejected, nor did he ever laugh to disguise his vexation, nor, on the other hand, was he ever passionate or suspicious. He was accustomed to do acts of beneficence, and was ready to forgive, and was free from all falsehood; and he presented the appearance of a man who could not be diverted from right rather than of a man who had been improved. I observed, too, that no man could ever think that he was despised by Maximus, or ever venture to think himself a better man. He had also the art of being humorous in an agreeable way.',\n",
       "   'offset_start': 23,\n",
       "   'offset_end': 38,\n",
       "   'offset_start_in_doc': 23,\n",
       "   'offset_end_in_doc': 38,\n",
       "   'document_id': '21318186-3f9d-4ce3-823e-84e7649584dc',\n",
       "   'meta': {'source': 'meditations'}},\n",
       "  {'answer': 'thy life under thy mother',\n",
       "   'score': -0.8216568827629089,\n",
       "   'probability': 0.4743457701223424,\n",
       "   'context': 'Termination of activity, cessation from movement and opinion, and in a sense their death, is no evil. Turn thy thoughts now to the consideration of thy life, thy life as a child, as a youth, thy manhood, thy old age, for in these also every change was a death. Is this anything to fear? Turn thy thoughts now to thy life under thy grandfather, then to thy life under thy mother, then to thy life under thy father; and as thou findest many other differences and changes and terminations, ask thyself, Is this anything to fear? In like manner, then, neither are the termination and cessation and change of thy whole life a thing to be afraid of.',\n",
       "   'offset_start': 352,\n",
       "   'offset_end': 377,\n",
       "   'offset_start_in_doc': 352,\n",
       "   'offset_end_in_doc': 377,\n",
       "   'document_id': '20ac002e-3ba8-4e36-9bb8-5dc3e156f5b0',\n",
       "   'meta': {'source': 'meditations'}},\n",
       "  {'answer': 'good teachers',\n",
       "   'score': -3.4130215644836426,\n",
       "   'probability': 0.39493189358267783,\n",
       "   'context': 'From my great-grandfather, not to have frequented public schools, and to have had good teachers at home, and to know that on such things a man should spend liberally.',\n",
       "   'offset_start': 82,\n",
       "   'offset_end': 95,\n",
       "   'offset_start_in_doc': 82,\n",
       "   'offset_end_in_doc': 95,\n",
       "   'document_id': 'c87f2cbf-b3d6-4d99-b0fa-1a69ee5673cf',\n",
       "   'meta': {'source': 'meditations'}},\n",
       "  {'answer': 'philosophy',\n",
       "   'score': -4.6120734214782715,\n",
       "   'probability': 0.35973622676008676,\n",
       "   'context': 'Epicurus says, In my sickness my conversation was not about my bodily sufferings, nor, says he, did I talk on such subjects to those who visited me; but I continued to discourse on the nature of things as before, keeping to this main point, how the mind, while participating in such movements as go on in the poor flesh, shall be free from perturbations and maintain its proper good. Nor did I, he says, give the physicians an opportunity of putting on solemn looks, as if they were doing something great, but my life went on well and happily. Do, then, the same that he did both in sickness, if thou art sick, and in any other circumstances; for never to desert philosophy in any events that may befall us, nor to hold trifling talk either with an ignorant man or with one unacquainted with nature, is a principle of all schools of philosophy; but to be intent only on that which thou art now doing and on the instrument by which thou doest it.',\n",
       "   'offset_start': 663,\n",
       "   'offset_end': 673,\n",
       "   'offset_start_in_doc': 663,\n",
       "   'offset_end_in_doc': 673,\n",
       "   'document_id': '50d11644-c2fe-48d7-99b5-bec08017eac2',\n",
       "   'meta': {'source': 'meditations'}},\n",
       "  {'answer': 'nature and profitable',\n",
       "   'score': -5.7945661544799805,\n",
       "   'probability': 0.3264422306182017,\n",
       "   'context': 'How cruel it is not to allow men to strive after the things which appear to them to be suitable to their nature and profitable! And yet in a manner thou dost not allow them to do this, when thou art vexed because they do wrong. For they are certainly moved towards things because they suppose them to be suitable to their nature and profitable to them.- But it is not so.- Teach them then, and show them without being angry.',\n",
       "   'offset_start': 105,\n",
       "   'offset_end': 126,\n",
       "   'offset_start_in_doc': 105,\n",
       "   'offset_end_in_doc': 126,\n",
       "   'document_id': '4912261e-5948-4809-aa55-22704b711d89',\n",
       "   'meta': {'source': 'meditations'}},\n",
       "  {'answer': 'to be themselves praised by posterity, by those whom they have never seen or ever will see, this they set much value on. But this is very much the same as if thou shouldst be grieved because those who have lived before thee did not praise thee',\n",
       "   'score': -6.2075018882751465,\n",
       "   'probability': 0.3151960566275257,\n",
       "   'context': 'How strangely men act. They will not praise those who are living at the same time and living with themselves; but to be themselves praised by posterity, by those whom they have never seen or ever will see, this they set much value on. But this is very much the same as if thou shouldst be grieved because those who have lived before thee did not praise thee.',\n",
       "   'offset_start': 114,\n",
       "   'offset_end': 357,\n",
       "   'offset_start_in_doc': 114,\n",
       "   'offset_end_in_doc': 357,\n",
       "   'document_id': '59e1cfd2-8f5c-4719-bcb0-2b99817cda48',\n",
       "   'meta': {'source': 'meditations'}},\n",
       "  {'answer': 'Teach them then or bear',\n",
       "   'score': -6.630188941955566,\n",
       "   'probability': 0.3039044446816942,\n",
       "   'context': 'Men exist for the sake of one another. Teach them then or bear with them.',\n",
       "   'offset_start': 39,\n",
       "   'offset_end': 62,\n",
       "   'offset_start_in_doc': 39,\n",
       "   'offset_end_in_doc': 62,\n",
       "   'document_id': '8157e9d5-11a6-4ff1-9141-6bbd565cf2c5',\n",
       "   'meta': {'source': 'meditations'}},\n",
       "  {'answer': 'fig-tree to have juice',\n",
       "   'score': -6.850348472595215,\n",
       "   'probability': 0.2981143086142292,\n",
       "   'context': 'It is natural that these things should be done by such persons, it is a matter of necessity; and if a man will not have it so, he will not allow the fig-tree to have juice. But by all means bear this in mind, that within a very short time both thou and he will be dead; and soon not even your names will be left behind.',\n",
       "   'offset_start': 149,\n",
       "   'offset_end': 171,\n",
       "   'offset_start_in_doc': 149,\n",
       "   'offset_end_in_doc': 171,\n",
       "   'document_id': 'c52ac4ea-f5cb-427e-8d01-f654597647ad',\n",
       "   'meta': {'source': 'meditations'}},\n",
       "  {'answer': 'foul smell and blood in a bag',\n",
       "   'score': -7.881350994110107,\n",
       "   'probability': 0.2718673708559664,\n",
       "   'context': 'Does Panthea or Pergamus now sit by the tomb of Verus? Does Chaurias or Diotimus sit by the tomb of Hadrian? That would be ridiculous. Well, suppose they did sit there, would the dead be conscious of it? And if the dead were conscious, would they be pleased? And if they were pleased, would that make them immortal? Was it not in the order of destiny that these persons too should first become old women and old men and then die? What then would those do after these were dead? All this is foul smell and blood in a bag.',\n",
       "   'offset_start': 490,\n",
       "   'offset_end': 519,\n",
       "   'offset_start_in_doc': 490,\n",
       "   'offset_end_in_doc': 519,\n",
       "   'document_id': '4649b913-eb2a-49e0-863b-852cb979ffc8',\n",
       "   'meta': {'source': 'meditations'}}]}"
      ]
     },
     "execution_count": 4,
     "metadata": {},
     "output_type": "execute_result"
    }
   ],
   "source": [
    "qa.run(query='What did your grandfather teach?')"
   ]
  },
  {
   "cell_type": "code",
   "execution_count": 5,
   "metadata": {},
   "outputs": [
    {
     "name": "stderr",
     "output_type": "stream",
     "text": [
      "03/16/2022 08:25:09 - INFO - elasticsearch -   POST http://localhost:9200/aurelius/_search [status:200 request:0.015s]\n",
      "Inferencing Samples: 100%|██████████| 1/1 [00:00<00:00,  1.54 Batches/s]\n",
      "Inferencing Samples: 100%|██████████| 1/1 [00:00<00:00,  1.78 Batches/s]\n",
      "Inferencing Samples: 100%|██████████| 1/1 [00:00<00:00,  1.77 Batches/s]\n",
      "Inferencing Samples: 100%|██████████| 1/1 [00:00<00:00,  1.76 Batches/s]\n",
      "Inferencing Samples: 100%|██████████| 1/1 [00:00<00:00,  1.75 Batches/s]\n",
      "Inferencing Samples: 100%|██████████| 1/1 [00:00<00:00,  1.76 Batches/s]\n",
      "Inferencing Samples: 100%|██████████| 1/1 [00:00<00:00,  1.78 Batches/s]\n",
      "Inferencing Samples: 100%|██████████| 1/1 [00:00<00:00,  1.77 Batches/s]\n",
      "Inferencing Samples: 100%|██████████| 1/1 [00:00<00:00,  1.77 Batches/s]\n",
      "Inferencing Samples: 100%|██████████| 1/1 [00:00<00:00,  1.73 Batches/s]\n"
     ]
    },
    {
     "data": {
      "text/plain": [
       "{'query': 'What is the Universe?',\n",
       " 'no_ans_gap': 9.206109523773193,\n",
       " 'answers': [{'answer': 'a well-arranged universe',\n",
       "   'score': 12.657480239868164,\n",
       "   'probability': 0.8295137489464071,\n",
       "   'context': 'Either it is a well-arranged universe or a chaos huddled together, but still a universe. But can a certain order subsist in thee, and disorder in the All? And this too when all things are so separated and diffused and sympathetic.',\n",
       "   'offset_start': 13,\n",
       "   'offset_end': 37,\n",
       "   'offset_start_in_doc': 13,\n",
       "   'offset_end_in_doc': 37,\n",
       "   'document_id': 'b94d68ec-866e-498a-9a33-1d95e6d4c2ad',\n",
       "   'meta': {'source': 'meditations'}},\n",
       "  {'answer': 'the universe loves to make whatever is about to be',\n",
       "   'score': 10.453649520874023,\n",
       "   'probability': 0.7869614603311372,\n",
       "   'context': '\"The earth loves the shower\"; and \"the solemn aether loves\": and the universe loves to make whatever is about to be. I say then to the universe, that I love as thou lovest. And is not this too said, that \"this or that loves (is wont) to be produced\"?',\n",
       "   'offset_start': 65,\n",
       "   'offset_end': 115,\n",
       "   'offset_start_in_doc': 65,\n",
       "   'offset_end_in_doc': 115,\n",
       "   'document_id': '7dd4567f-a35c-47c9-8649-d1f338c757de',\n",
       "   'meta': {'source': 'meditations'}},\n",
       "  {'answer': 'universe',\n",
       "   'score': 6.48627233505249,\n",
       "   'probability': 0.6922765537043115,\n",
       "   'context': 'What is thy art? To be good. And how is this accomplished well except by general principles, some about the nature of the universe, and others about the proper constitution of man?',\n",
       "   'offset_start': 122,\n",
       "   'offset_end': 130,\n",
       "   'offset_start_in_doc': 122,\n",
       "   'offset_end_in_doc': 130,\n",
       "   'document_id': '8f43f32f-1fea-4953-a230-2212793be4a8',\n",
       "   'meta': {'source': 'meditations'}}]}"
      ]
     },
     "execution_count": 5,
     "metadata": {},
     "output_type": "execute_result"
    }
   ],
   "source": [
    "qa.run(query='What is the Universe?',\n",
    "       top_k_reader=3)"
   ]
  },
  {
   "cell_type": "code",
   "execution_count": 6,
   "metadata": {},
   "outputs": [
    {
     "name": "stderr",
     "output_type": "stream",
     "text": [
      "03/16/2022 08:27:02 - INFO - elasticsearch -   POST http://localhost:9200/aurelius/_search [status:200 request:0.012s]\n",
      "Inferencing Samples: 100%|██████████| 1/1 [00:00<00:00,  1.66 Batches/s]\n",
      "Inferencing Samples: 100%|██████████| 1/1 [00:00<00:00,  1.69 Batches/s]\n",
      "Inferencing Samples: 100%|██████████| 1/1 [00:00<00:00,  1.69 Batches/s]\n",
      "Inferencing Samples: 100%|██████████| 1/1 [00:00<00:00,  1.70 Batches/s]\n",
      "Inferencing Samples: 100%|██████████| 1/1 [00:00<00:00,  1.73 Batches/s]\n",
      "Inferencing Samples: 100%|██████████| 1/1 [00:00<00:00,  1.74 Batches/s]\n",
      "Inferencing Samples: 100%|██████████| 1/1 [00:00<00:00,  1.83 Batches/s]\n",
      "Inferencing Samples: 100%|██████████| 1/1 [00:00<00:00,  1.82 Batches/s]\n",
      "Inferencing Samples: 100%|██████████| 1/1 [00:00<00:00,  1.82 Batches/s]\n",
      "Inferencing Samples: 100%|██████████| 1/1 [00:00<00:00,  1.83 Batches/s]\n"
     ]
    },
    {
     "data": {
      "text/plain": [
       "{'query': 'What is art?',\n",
       " 'no_ans_gap': 4.066242694854736,\n",
       " 'answers': [{'answer': 'the acts of life',\n",
       "   'score': 6.920147895812988,\n",
       "   'probability': 0.7037080926046142,\n",
       "   'context': 'Let it make no difference to thee whether thou art cold or warm, if thou art doing thy duty; and whether thou art drowsy or satisfied with sleep; and whether ill-spoken of or praised; and whether dying or doing something else. For it is one of the acts of life, this act by which we die: it is sufficient then in this act also to do well what we have in hand.',\n",
       "   'offset_start': 244,\n",
       "   'offset_end': 260,\n",
       "   'offset_start_in_doc': 244,\n",
       "   'offset_end_in_doc': 260,\n",
       "   'document_id': '19cdea02-ffff-4fee-8820-98f690a7abc2',\n",
       "   'meta': {'source': 'meditations'}},\n",
       "  {'answer': 'To be good',\n",
       "   'score': 4.7822113037109375,\n",
       "   'probability': 0.6451474199464995,\n",
       "   'context': 'What is thy art? To be good. And how is this accomplished well except by general principles, some about the nature of the universe, and others about the proper constitution of man?',\n",
       "   'offset_start': 17,\n",
       "   'offset_end': 27,\n",
       "   'offset_start_in_doc': 17,\n",
       "   'offset_end_in_doc': 27,\n",
       "   'document_id': '8f43f32f-1fea-4953-a230-2212793be4a8',\n",
       "   'meta': {'source': 'meditations'}},\n",
       "  {'answer': 'thou art governed by nature',\n",
       "   'score': 3.584360122680664,\n",
       "   'probability': 0.6101743184164208,\n",
       "   'context': 'Observe what thy nature requires, so far as thou art governed by nature only: then do it and accept it, if thy nature, so far as thou art a living being, shall not be made worse by it.',\n",
       "   'offset_start': 44,\n",
       "   'offset_end': 71,\n",
       "   'offset_start_in_doc': 44,\n",
       "   'offset_end_in_doc': 71,\n",
       "   'document_id': '0dcb9724-5180-4336-af06-603b8318ecbd',\n",
       "   'meta': {'source': 'meditations'}}]}"
      ]
     },
     "execution_count": 6,
     "metadata": {},
     "output_type": "execute_result"
    }
   ],
   "source": [
    "qa.run(query='What is art?',\n",
    "       top_k_reader=3)"
   ]
  },
  {
   "cell_type": "markdown",
   "metadata": {},
   "source": [
    "Pretty cool stuff!"
   ]
  }
 ],
 "metadata": {
  "kernelspec": {
   "display_name": "ML",
   "language": "python",
   "name": "ml"
  },
  "language_info": {
   "codemirror_mode": {
    "name": "ipython",
    "version": 3
   },
   "file_extension": ".py",
   "mimetype": "text/x-python",
   "name": "python",
   "nbconvert_exporter": "python",
   "pygments_lexer": "ipython3",
   "version": "3.8.5"
  }
 },
 "nbformat": 4,
 "nbformat_minor": 4
}
