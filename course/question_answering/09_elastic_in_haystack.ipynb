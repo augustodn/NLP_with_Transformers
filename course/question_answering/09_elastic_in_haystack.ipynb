{
 "cells": [
  {
   "cell_type": "markdown",
   "id": "increasing-giving",
   "metadata": {},
   "source": [
    "# Elasticsearch With Haystack\n",
    "\n",
    "We will be communicating with our Elasticsearch document store via Haystack. First, we need to install Haystack using pip:\n",
    "\n",
    "On Windows:\n",
    "\n",
    "```\n",
    "pip install farm-haystack -f https://download.pytorch.org/whl/torch_stable.html\n",
    "```\n",
    "\n",
    "Anything else:\n",
    "\n",
    "```\n",
    "pip install farm-haystack\n",
    "```\n",
    "\n",
    "We will start by indexing the SQuAD dev data. So let's load that into our notebook first.\n",
    "\n"
   ]
  },
  {
   "cell_type": "code",
   "execution_count": 6,
   "id": "underlying-curtis",
   "metadata": {},
   "outputs": [],
   "source": [
    "import json\n",
    "\n",
    "with open('../../data/squad/dev.json', 'r') as f:\n",
    "    squad = json.load(f)"
   ]
  },
  {
   "cell_type": "markdown",
   "id": "following-medication",
   "metadata": {},
   "source": [
    "Next, we initialize a connection between Haystack and our local Elasticsearch instance like so:"
   ]
  },
  {
   "cell_type": "code",
   "execution_count": 1,
   "id": "convertible-benjamin",
   "metadata": {},
   "outputs": [
    {
     "name": "stderr",
     "output_type": "stream",
     "text": [
      "03/08/2022 08:57:09 - INFO - faiss -   Loading faiss.\n",
      "03/08/2022 08:57:16 - INFO - elasticsearch -   HEAD http://localhost:9200/squad_docs [status:200 request:0.042s]\n",
      "03/08/2022 08:57:16 - INFO - elasticsearch -   GET http://localhost:9200/squad_docs [status:200 request:0.002s]\n",
      "03/08/2022 08:57:16 - INFO - elasticsearch -   PUT http://localhost:9200/squad_docs/_mapping [status:200 request:0.015s]\n",
      "03/08/2022 08:57:16 - INFO - elasticsearch -   HEAD http://localhost:9200/label [status:200 request:0.003s]\n"
     ]
    }
   ],
   "source": [
    "from haystack.document_store.elasticsearch import ElasticsearchDocumentStore\n",
    "\n",
    "document_store = ElasticsearchDocumentStore(\n",
    "    host='localhost',\n",
    "    index='squad_docs',\n",
    ")\n",
    "# document_store = ElasticsearchDocumentStore()\n"
   ]
  },
  {
   "cell_type": "markdown",
   "id": "baking-samoa",
   "metadata": {},
   "source": [
    "Great, we've established our connection, now let's try querying our Elasticsearch instance. We will do this through the `requests` library."
   ]
  },
  {
   "cell_type": "code",
   "execution_count": 2,
   "id": "bearing-tuesday",
   "metadata": {},
   "outputs": [],
   "source": [
    "import requests"
   ]
  },
  {
   "cell_type": "markdown",
   "id": "mexican-board",
   "metadata": {},
   "source": [
    "Let's check our cluster *health* (eg the general status of our Elasticsearch instance). We do this by sending a **GET** request to the `_cluster/health` endpoint."
   ]
  },
  {
   "cell_type": "code",
   "execution_count": 3,
   "id": "modular-learning",
   "metadata": {},
   "outputs": [
    {
     "data": {
      "text/plain": [
       "{'cluster_name': 'elasticsearch',\n",
       " 'status': 'yellow',\n",
       " 'timed_out': False,\n",
       " 'number_of_nodes': 1,\n",
       " 'number_of_data_nodes': 1,\n",
       " 'active_primary_shards': 5,\n",
       " 'active_shards': 5,\n",
       " 'relocating_shards': 0,\n",
       " 'initializing_shards': 0,\n",
       " 'unassigned_shards': 3,\n",
       " 'delayed_unassigned_shards': 0,\n",
       " 'number_of_pending_tasks': 0,\n",
       " 'number_of_in_flight_fetch': 0,\n",
       " 'task_max_waiting_in_queue_millis': 0,\n",
       " 'active_shards_percent_as_number': 62.5}"
      ]
     },
     "execution_count": 3,
     "metadata": {},
     "output_type": "execute_result"
    }
   ],
   "source": [
    "res = requests.get('http://localhost:9200/_cluster/health')\n",
    "\n",
    "res.json()"
   ]
  },
  {
   "cell_type": "markdown",
   "id": "musical-vault",
   "metadata": {},
   "source": [
    "Okay we can see that the cluster is definitely running. The cluster status is *yellow*, ideally we want to aim for *green* but the reason we see yellow here is because not all replica shards have been allocated to nodes. The details of this don't really matter, but it essentially just means that we don't have a full set of backup (*replica*) data shards - which is only a problem if our *primary* data sources get corrupted/lost. That is beyond the scope of what we are doing here however.\n",
    "\n",
    "## Adding Data\n",
    "\n",
    "Right now our Elasticsearch instance contains a single, empty index called *'squad_docs'*. We need to populate this with our `squad` data. We populate our index through the `document_store.write_documents(<input_data>)` method, where our *\\<input_data\\>* must be a list of dictionaries in the format:\n",
    "\n",
    "```json\n",
    "{\n",
    "    'text': '<document text here>',\n",
    "    'meta': {\n",
    "        'other': '<other info here>'\n",
    "    }\n",
    "}\n",
    "```\n",
    "\n",
    "We **must** include the `'text'` key. The *text* must contain the text from each sample, which in our case is a *context* string. The `'meta'` data is optional, but is usually used to contain anything else that might be relevant, so for example we might want to include the *group* that the context came from (eg 'Beyonce', or 'Matter')."
   ]
  },
  {
   "cell_type": "code",
   "execution_count": 8,
   "id": "renewable-chester",
   "metadata": {},
   "outputs": [],
   "source": [
    "squad_docs = []\n",
    "\n",
    "for sample in squad:\n",
    "    squad_docs.append({\n",
    "        'text': sample['context']\n",
    "    })"
   ]
  },
  {
   "cell_type": "markdown",
   "id": "human-burton",
   "metadata": {},
   "source": [
    "Then we add our data to the index like this:"
   ]
  },
  {
   "cell_type": "code",
   "execution_count": 9,
   "id": "vocational-shirt",
   "metadata": {},
   "outputs": [
    {
     "name": "stderr",
     "output_type": "stream",
     "text": [
      "03/08/2022 08:58:30 - INFO - elasticsearch -   POST http://localhost:9200/_bulk?refresh=wait_for [status:200 request:0.775s]\n",
      "03/08/2022 08:58:31 - INFO - elasticsearch -   POST http://localhost:9200/_bulk?refresh=wait_for [status:200 request:0.879s]\n",
      "03/08/2022 08:58:32 - INFO - elasticsearch -   POST http://localhost:9200/_bulk?refresh=wait_for [status:200 request:1.056s]\n",
      "03/08/2022 08:58:33 - INFO - elasticsearch -   POST http://localhost:9200/_bulk?refresh=wait_for [status:200 request:1.026s]\n",
      "03/08/2022 08:58:34 - INFO - elasticsearch -   POST http://localhost:9200/_bulk?refresh=wait_for [status:200 request:1.024s]\n",
      "03/08/2022 08:58:35 - INFO - elasticsearch -   POST http://localhost:9200/_bulk?refresh=wait_for [status:200 request:1.261s]\n",
      "03/08/2022 08:58:36 - INFO - elasticsearch -   POST http://localhost:9200/_bulk?refresh=wait_for [status:200 request:1.016s]\n",
      "03/08/2022 08:58:37 - INFO - elasticsearch -   POST http://localhost:9200/_bulk?refresh=wait_for [status:200 request:1.013s]\n",
      "03/08/2022 08:58:38 - INFO - elasticsearch -   POST http://localhost:9200/_bulk?refresh=wait_for [status:200 request:1.014s]\n",
      "03/08/2022 08:58:39 - INFO - elasticsearch -   POST http://localhost:9200/_bulk?refresh=wait_for [status:200 request:1.018s]\n",
      "03/08/2022 08:58:40 - INFO - elasticsearch -   POST http://localhost:9200/_bulk?refresh=wait_for [status:200 request:1.020s]\n",
      "03/08/2022 08:58:41 - INFO - elasticsearch -   POST http://localhost:9200/_bulk?refresh=wait_for [status:200 request:1.018s]\n",
      "03/08/2022 08:58:42 - INFO - elasticsearch -   POST http://localhost:9200/_bulk?refresh=wait_for [status:200 request:1.017s]\n",
      "03/08/2022 08:58:44 - INFO - elasticsearch -   POST http://localhost:9200/_bulk?refresh=wait_for [status:200 request:1.019s]\n",
      "03/08/2022 08:58:45 - INFO - elasticsearch -   POST http://localhost:9200/_bulk?refresh=wait_for [status:200 request:1.073s]\n",
      "03/08/2022 08:58:46 - INFO - elasticsearch -   POST http://localhost:9200/_bulk?refresh=wait_for [status:200 request:1.021s]\n",
      "03/08/2022 08:58:47 - INFO - elasticsearch -   POST http://localhost:9200/_bulk?refresh=wait_for [status:200 request:1.016s]\n",
      "03/08/2022 08:58:48 - INFO - elasticsearch -   POST http://localhost:9200/_bulk?refresh=wait_for [status:200 request:1.017s]\n",
      "03/08/2022 08:58:49 - INFO - elasticsearch -   POST http://localhost:9200/_bulk?refresh=wait_for [status:200 request:1.012s]\n",
      "03/08/2022 08:58:50 - INFO - elasticsearch -   POST http://localhost:9200/_bulk?refresh=wait_for [status:200 request:1.021s]\n",
      "03/08/2022 08:58:51 - INFO - elasticsearch -   POST http://localhost:9200/_bulk?refresh=wait_for [status:200 request:0.965s]\n",
      "03/08/2022 08:58:52 - INFO - elasticsearch -   POST http://localhost:9200/_bulk?refresh=wait_for [status:200 request:1.030s]\n",
      "03/08/2022 08:58:53 - INFO - elasticsearch -   POST http://localhost:9200/_bulk?refresh=wait_for [status:200 request:1.015s]\n",
      "03/08/2022 08:58:54 - INFO - elasticsearch -   POST http://localhost:9200/_bulk?refresh=wait_for [status:200 request:1.055s]\n",
      "03/08/2022 08:58:55 - INFO - elasticsearch -   POST http://localhost:9200/_bulk?refresh=wait_for [status:200 request:1.016s]\n",
      "03/08/2022 08:58:56 - INFO - elasticsearch -   POST http://localhost:9200/_bulk?refresh=wait_for [status:200 request:1.016s]\n",
      "03/08/2022 08:58:57 - INFO - elasticsearch -   POST http://localhost:9200/_bulk?refresh=wait_for [status:200 request:1.019s]\n",
      "03/08/2022 08:58:58 - INFO - elasticsearch -   POST http://localhost:9200/_bulk?refresh=wait_for [status:200 request:1.016s]\n",
      "03/08/2022 08:58:59 - INFO - elasticsearch -   POST http://localhost:9200/_bulk?refresh=wait_for [status:200 request:1.017s]\n",
      "03/08/2022 08:59:00 - INFO - elasticsearch -   POST http://localhost:9200/_bulk?refresh=wait_for [status:200 request:1.015s]\n",
      "03/08/2022 08:59:01 - INFO - elasticsearch -   POST http://localhost:9200/_bulk?refresh=wait_for [status:200 request:1.014s]\n",
      "03/08/2022 08:59:02 - INFO - elasticsearch -   POST http://localhost:9200/_bulk?refresh=wait_for [status:200 request:1.018s]\n",
      "03/08/2022 08:59:03 - INFO - elasticsearch -   POST http://localhost:9200/_bulk?refresh=wait_for [status:200 request:1.069s]\n"
     ]
    }
   ],
   "source": [
    "document_store.write_documents(squad_docs)"
   ]
  },
  {
   "cell_type": "markdown",
   "id": "north-quest",
   "metadata": {},
   "source": [
    "When we're retrieving data from Elasticsearch we will be retrieving documents using either the TF-IDF, or BM25 algorithms.\n",
    "\n",
    "**TF-IDF** is a common *relevance* scoring algorithm, the built is calculated using:\n",
    "\n",
    "* **TF**, the volume of words in the query (question) that appear in the document.\n",
    "\n",
    "* **IDF**, the inverse of the fraction of documents that contain the same word (eg common words like *'the'* don't score well, whereas *'Beyonce'* would).\n",
    "\n",
    "We integrate TD-IDF using:"
   ]
  },
  {
   "cell_type": "code",
   "execution_count": 10,
   "id": "34ce0948",
   "metadata": {},
   "outputs": [
    {
     "data": {
      "text/plain": [
       "<haystack.document_store.elasticsearch.ElasticsearchDocumentStore at 0x7f8faff396d0>"
      ]
     },
     "execution_count": 10,
     "metadata": {},
     "output_type": "execute_result"
    }
   ],
   "source": [
    "document_store"
   ]
  },
  {
   "cell_type": "code",
   "execution_count": 12,
   "id": "minute-offer",
   "metadata": {},
   "outputs": [
    {
     "name": "stderr",
     "output_type": "stream",
     "text": [
      "03/08/2022 09:00:27 - INFO - elasticsearch -   POST http://localhost:9200/squad_docs/_search?scroll=1d&size=10000 [status:200 request:0.146s]\n",
      "03/08/2022 09:00:27 - INFO - elasticsearch -   POST http://localhost:9200/_search/scroll [status:200 request:0.107s]\n",
      "03/08/2022 09:00:27 - INFO - elasticsearch -   POST http://localhost:9200/_search/scroll [status:200 request:0.092s]\n",
      "03/08/2022 09:00:27 - INFO - elasticsearch -   POST http://localhost:9200/_search/scroll [status:200 request:0.024s]\n",
      "03/08/2022 09:00:27 - INFO - elasticsearch -   POST http://localhost:9200/_search/scroll [status:200 request:0.004s]\n",
      "03/08/2022 09:00:27 - INFO - elasticsearch -   DELETE http://localhost:9200/_search/scroll [status:200 request:0.007s]\n",
      "03/08/2022 09:00:27 - INFO - haystack.retriever.sparse -   Found 32418 candidate paragraphs from 32418 docs in DB\n"
     ]
    }
   ],
   "source": [
    "from haystack.retriever.sparse import TfidfRetriever\n",
    "\n",
    "retriever = TfidfRetriever(document_store)"
   ]
  },
  {
   "cell_type": "markdown",
   "id": "careful-trainer",
   "metadata": {},
   "source": [
    "We can see here that when building our retriever, it identified a total of *16209* 'candidate paragraphs'. These are all of the contexts from our `squad` data:"
   ]
  },
  {
   "cell_type": "code",
   "execution_count": 13,
   "id": "passive-overview",
   "metadata": {},
   "outputs": [
    {
     "data": {
      "text/plain": [
       "16209"
      ]
     },
     "execution_count": 13,
     "metadata": {},
     "output_type": "execute_result"
    }
   ],
   "source": [
    "len(squad)"
   ]
  },
  {
   "cell_type": "markdown",
   "id": "operating-tender",
   "metadata": {},
   "source": [
    "For now, we can return data from Elasticsearch, using the **TF-IDF** algorithm, with the `retrieve` method."
   ]
  },
  {
   "cell_type": "code",
   "execution_count": 14,
   "id": "complex-peripheral",
   "metadata": {},
   "outputs": [
    {
     "data": {
      "text/plain": [
       "[{'text': 'Even though some proofs of complexity-theoretic theorems regularly assume some concrete choice of input encoding, one tries to keep the discussion abstract enough to be independent of the choice of encoding. This can be achieved by ensuring that different representations can be transformed into each other efficiently.', 'id': '69d78246-a7fa-48c3-a081-55a587ebd8d2', 'score': None, 'probability': None, 'question': None, 'meta': {}, 'embedding': None},\n",
       " {'text': 'Even though some proofs of complexity-theoretic theorems regularly assume some concrete choice of input encoding, one tries to keep the discussion abstract enough to be independent of the choice of encoding. This can be achieved by ensuring that different representations can be transformed into each other efficiently.', 'id': 'bb6b3f42-0b06-4405-b353-cc3dec1d4a79', 'score': None, 'probability': None, 'question': None, 'meta': {}, 'embedding': None},\n",
       " {'text': 'Even though some proofs of complexity-theoretic theorems regularly assume some concrete choice of input encoding, one tries to keep the discussion abstract enough to be independent of the choice of encoding. This can be achieved by ensuring that different representations can be transformed into each other efficiently.', 'id': '5c56ba24-d21f-42f9-8440-2efae675af3d', 'score': None, 'probability': None, 'question': None, 'meta': {}, 'embedding': None},\n",
       " {'text': 'Even though some proofs of complexity-theoretic theorems regularly assume some concrete choice of input encoding, one tries to keep the discussion abstract enough to be independent of the choice of encoding. This can be achieved by ensuring that different representations can be transformed into each other efficiently.', 'id': '5d04ecbe-6d2e-4fc1-bb89-97d81316f124', 'score': None, 'probability': None, 'question': None, 'meta': {}, 'embedding': None},\n",
       " {'text': 'Even though some proofs of complexity-theoretic theorems regularly assume some concrete choice of input encoding, one tries to keep the discussion abstract enough to be independent of the choice of encoding. This can be achieved by ensuring that different representations can be transformed into each other efficiently.', 'id': 'd815be85-ef07-4700-8d5a-a1b97348b470', 'score': None, 'probability': None, 'question': None, 'meta': {}, 'embedding': None},\n",
       " {'text': 'Even though some proofs of complexity-theoretic theorems regularly assume some concrete choice of input encoding, one tries to keep the discussion abstract enough to be independent of the choice of encoding. This can be achieved by ensuring that different representations can be transformed into each other efficiently.', 'id': '953a052d-c5cd-4935-8734-a97d825f3766', 'score': None, 'probability': None, 'question': None, 'meta': {}, 'embedding': None},\n",
       " {'text': 'Even though some proofs of complexity-theoretic theorems regularly assume some concrete choice of input encoding, one tries to keep the discussion abstract enough to be independent of the choice of encoding. This can be achieved by ensuring that different representations can be transformed into each other efficiently.', 'id': 'cadaccb4-65b7-4aaa-824b-573f71001a2c', 'score': None, 'probability': None, 'question': None, 'meta': {}, 'embedding': None},\n",
       " {'text': 'Even though some proofs of complexity-theoretic theorems regularly assume some concrete choice of input encoding, one tries to keep the discussion abstract enough to be independent of the choice of encoding. This can be achieved by ensuring that different representations can be transformed into each other efficiently.', 'id': '405dc28b-57af-47f4-83a1-13edc39795dc', 'score': None, 'probability': None, 'question': None, 'meta': {}, 'embedding': None},\n",
       " {'text': 'Even though some proofs of complexity-theoretic theorems regularly assume some concrete choice of input encoding, one tries to keep the discussion abstract enough to be independent of the choice of encoding. This can be achieved by ensuring that different representations can be transformed into each other efficiently.', 'id': 'b1a3d610-cdf5-4f96-9ba3-99511f1d36c0', 'score': None, 'probability': None, 'question': None, 'meta': {}, 'embedding': None},\n",
       " {'text': 'Even though some proofs of complexity-theoretic theorems regularly assume some concrete choice of input encoding, one tries to keep the discussion abstract enough to be independent of the choice of encoding. This can be achieved by ensuring that different representations can be transformed into each other efficiently.', 'id': '6f2a1d81-ffa7-4cc7-8e67-aefbd9065bd6', 'score': None, 'probability': None, 'question': None, 'meta': {}, 'embedding': None}]"
      ]
     },
     "execution_count": 14,
     "metadata": {},
     "output_type": "execute_result"
    }
   ],
   "source": [
    "query = \"Physics is a very abstract subject\"\n",
    "\n",
    "retriever.retrieve(query)"
   ]
  },
  {
   "cell_type": "markdown",
   "id": "living-concentration",
   "metadata": {},
   "source": [
    "This query returns a huge number of duplicates. The reason we have these is because our data contained duplicates of the same context because each context could be tied to several different questions. So now, we need to restart by first deleting everything inside our *squad_docs* index. Then re-indexing our deduplicated data.\n",
    "\n",
    "We can delete every document in our index by sending a **POST** request to the `<index_name>/_delete_by_query` endpoint:"
   ]
  },
  {
   "cell_type": "code",
   "execution_count": 15,
   "id": "stable-struggle",
   "metadata": {},
   "outputs": [
    {
     "data": {
      "text/plain": [
       "{'took': 3117,\n",
       " 'timed_out': False,\n",
       " 'total': 32418,\n",
       " 'deleted': 32418,\n",
       " 'batches': 33,\n",
       " 'version_conflicts': 0,\n",
       " 'noops': 0,\n",
       " 'retries': {'bulk': 0, 'search': 0},\n",
       " 'throttled_millis': 0,\n",
       " 'requests_per_second': -1.0,\n",
       " 'throttled_until_millis': 0,\n",
       " 'failures': []}"
      ]
     },
     "execution_count": 15,
     "metadata": {},
     "output_type": "execute_result"
    }
   ],
   "source": [
    "res = requests.post(\n",
    "    'http://localhost:9200/squad_docs/_delete_by_query',\n",
    "    json={\n",
    "        'query': {\n",
    "            'match_all': {}\n",
    "        }\n",
    "    }\n",
    ")\n",
    "\n",
    "res.json()"
   ]
  },
  {
   "cell_type": "markdown",
   "id": "durable-basis",
   "metadata": {},
   "source": [
    "Our response shows `'deleted': 16209`, which means all *16209* documents have been deleted from our *squad_docs* index. We can confirm this by calling the `<index_name>/_count` endpoint too:"
   ]
  },
  {
   "cell_type": "code",
   "execution_count": 16,
   "id": "coordinated-worthy",
   "metadata": {},
   "outputs": [
    {
     "data": {
      "text/plain": [
       "{'count': 0,\n",
       " '_shards': {'total': 1, 'successful': 1, 'skipped': 0, 'failed': 0}}"
      ]
     },
     "execution_count": 16,
     "metadata": {},
     "output_type": "execute_result"
    }
   ],
   "source": [
    "res = requests.get('http://localhost:9200/squad_docs/_count')\n",
    "\n",
    "res.json()"
   ]
  },
  {
   "cell_type": "markdown",
   "id": "velvet-financing",
   "metadata": {},
   "source": [
    "Now that we've cleared the index, it's time to remove duplicates from our SQuAD contexts and re-index them."
   ]
  },
  {
   "cell_type": "code",
   "execution_count": 17,
   "id": "legislative-rescue",
   "metadata": {},
   "outputs": [],
   "source": [
    "# create list of contexts (we cannot do this using current dictionary format)\n",
    "contexts = [sample['context'] for sample in squad]\n",
    "\n",
    "# convert to set to remove duplicates, then back to list\n",
    "contexts = list(set(contexts))\n",
    "\n",
    "# convert back to dictionary format we need\n",
    "squad_docs = [{'text': sample} for sample in contexts]"
   ]
  },
  {
   "cell_type": "markdown",
   "id": "light-embassy",
   "metadata": {},
   "source": [
    "Finally, we can re-index our Elasticsearch as we did before."
   ]
  },
  {
   "cell_type": "code",
   "execution_count": 18,
   "id": "competitive-potter",
   "metadata": {},
   "outputs": [
    {
     "name": "stderr",
     "output_type": "stream",
     "text": [
      "03/08/2022 09:06:03 - INFO - elasticsearch -   POST http://localhost:9200/_bulk?refresh=wait_for [status:200 request:0.234s]\n",
      "03/08/2022 09:06:04 - INFO - elasticsearch -   POST http://localhost:9200/_bulk?refresh=wait_for [status:200 request:1.069s]\n",
      "03/08/2022 09:06:05 - INFO - elasticsearch -   POST http://localhost:9200/_bulk?refresh=wait_for [status:200 request:1.072s]\n"
     ]
    }
   ],
   "source": [
    "document_store.write_documents(squad_docs)"
   ]
  },
  {
   "cell_type": "markdown",
   "id": "supported-secret",
   "metadata": {},
   "source": [
    "Because we have changed the contents of our index, we initialize our retriever once more."
   ]
  },
  {
   "cell_type": "code",
   "execution_count": 19,
   "id": "conditional-sweden",
   "metadata": {},
   "outputs": [
    {
     "name": "stderr",
     "output_type": "stream",
     "text": [
      "03/08/2022 09:06:12 - INFO - elasticsearch -   POST http://localhost:9200/squad_docs/_search?scroll=1d&size=10000 [status:200 request:0.024s]\n",
      "03/08/2022 09:06:12 - INFO - elasticsearch -   POST http://localhost:9200/_search/scroll [status:200 request:0.005s]\n",
      "03/08/2022 09:06:12 - INFO - elasticsearch -   DELETE http://localhost:9200/_search/scroll [status:200 request:0.003s]\n",
      "03/08/2022 09:06:12 - INFO - haystack.retriever.sparse -   Found 1204 candidate paragraphs from 1204 docs in DB\n"
     ]
    }
   ],
   "source": [
    "retriever = TfidfRetriever(document_store)"
   ]
  },
  {
   "cell_type": "markdown",
   "id": "available-flash",
   "metadata": {},
   "source": [
    "And this time we see that our retriever found *1204* documents (much less than the *16209* we found before). Now it's time to query our data again!"
   ]
  },
  {
   "cell_type": "code",
   "execution_count": 20,
   "id": "cardiovascular-skating",
   "metadata": {},
   "outputs": [
    {
     "data": {
      "text/plain": [
       "[{'text': 'Even though some proofs of complexity-theoretic theorems regularly assume some concrete choice of input encoding, one tries to keep the discussion abstract enough to be independent of the choice of encoding. This can be achieved by ensuring that different representations can be transformed into each other efficiently.', 'id': '44501a50-535f-4899-a3de-f33c719195f8', 'score': None, 'probability': None, 'question': None, 'meta': {}, 'embedding': None},\n",
       " {'text': 'With modern insights into quantum mechanics and technology that can accelerate particles close to the speed of light, particle physics has devised a Standard Model to describe forces between particles smaller than atoms. The Standard Model predicts that exchanged particles called gauge bosons are the fundamental means by which forces are emitted and absorbed. Only four main interactions are known: in order of decreasing strength, they are: strong, electromagnetic, weak, and gravitational.:2–10:79 High-energy particle physics observations made during the 1970s and 1980s confirmed that the weak and electromagnetic forces are expressions of a more fundamental electroweak interaction.', 'id': '162a986d-fc64-4cd9-8c56-3c0ca7f6959b', 'score': None, 'probability': None, 'question': None, 'meta': {}, 'embedding': None},\n",
       " {'text': 'Subject Committees are established at the beginning of each parliamentary session, and again the members on each committee reflect the balance of parties across Parliament. Typically each committee corresponds with one (or more) of the departments (or ministries) of the Scottish Government. The current Subject Committees in the fourth Session are: Economy, Energy and Tourism; Education and Culture; Health and Sport; Justice; Local Government and Regeneration; Rural Affairs, Climate Change and Environment; Welfare Reform; and Infrastructure and Capital Investment.', 'id': '62399b2b-2dc8-4834-a706-b0cfe8b42a4c', 'score': None, 'probability': None, 'question': None, 'meta': {}, 'embedding': None},\n",
       " {'text': 'A computational problem can be viewed as an infinite collection of instances together with a solution for every instance. The input string for a computational problem is referred to as a problem instance, and should not be confused with the problem itself. In computational complexity theory, a problem refers to the abstract question to be solved. In contrast, an instance of this problem is a rather concrete utterance, which can serve as the input for a decision problem. For example, consider the problem of primality testing. The instance is a number (e.g. 15) and the solution is \"yes\" if the number is prime and \"no\" otherwise (in this case \"no\"). Stated another way, the instance is a particular input to the problem, and the solution is the output corresponding to the given input.', 'id': 'c54e04de-e2bc-4340-9e87-a6816725b4d9', 'score': None, 'probability': None, 'question': None, 'meta': {}, 'embedding': None},\n",
       " {'text': 'However, some computational problems are easier to analyze in terms of more unusual resources. For example, a non-deterministic Turing machine is a computational model that is allowed to branch out to check many different possibilities at once. The non-deterministic Turing machine has very little to do with how we physically want to compute algorithms, but its branching exactly captures many of the mathematical models we want to analyze, so that non-deterministic time is a very important resource in analyzing computational problems.', 'id': 'f967a09a-d3ef-4079-b100-a4456d8611f5', 'score': None, 'probability': None, 'question': None, 'meta': {}, 'embedding': None},\n",
       " {'text': 'The notion \"force\" keeps its meaning in quantum mechanics, though one is now dealing with operators instead of classical variables and though the physics is now described by the Schrödinger equation instead of Newtonian equations. This has the consequence that the results of a measurement are now sometimes \"quantized\", i.e. they appear in discrete portions. This is, of course, difficult to imagine in the context of \"forces\". However, the potentials V(x,y,z) or fields, from which the forces generally can be derived, are treated similar to classical position variables, i.e., .', 'id': 'bb5df13d-c50a-4531-8531-fc349dfe5f42', 'score': None, 'probability': None, 'question': None, 'meta': {}, 'embedding': None},\n",
       " {'text': 'The development of fundamental theories for forces proceeded along the lines of unification of disparate ideas. For example, Isaac Newton unified the force responsible for objects falling at the surface of the Earth with the force responsible for the orbits of celestial mechanics in his universal theory of gravitation. Michael Faraday and James Clerk Maxwell demonstrated that electric and magnetic forces were unified through one consistent theory of electromagnetism. In the 20th century, the development of quantum mechanics led to a modern understanding that the first three fundamental forces (all except gravity) are manifestations of matter (fermions) interacting by exchanging virtual particles called gauge bosons. This standard model of particle physics posits a similarity between the forces and led scientists to predict the unification of the weak and electromagnetic forces in electroweak theory subsequently confirmed by observation. The complete formulation of the standard model predicts an as yet unobserved Higgs mechanism, but observations such as neutrino oscillations indicate that the standard model is incomplete. A Grand Unified Theory allowing for the combination of the electroweak interaction with the strong force is held out as a possibility with candidate theories such as supersymmetry proposed to accommodate some of the outstanding unsolved problems in physics. Physicists are still attempting to develop self-consistent unification models that would combine all four fundamental interactions into a theory of everything. Einstein tried and failed at this endeavor, but currently the most popular approach to answering this question is string theory.:212–219', 'id': 'd8fc0f5a-d781-4f0c-a03f-bbdc86f0f150', 'score': None, 'probability': None, 'question': None, 'meta': {}, 'embedding': None},\n",
       " {'text': \"Trioxygen (O\\n3) is usually known as ozone and is a very reactive allotrope of oxygen that is damaging to lung tissue. Ozone is produced in the upper atmosphere when O\\n2 combines with atomic oxygen made by the splitting of O\\n2 by ultraviolet (UV) radiation. Since ozone absorbs strongly in the UV region of the spectrum, the ozone layer of the upper atmosphere functions as a protective radiation shield for the planet. Near the Earth's surface, it is a pollutant formed as a by-product of automobile exhaust. The metastable molecule tetraoxygen (O\\n4) was discovered in 2001, and was assumed to exist in one of the six phases of solid oxygen. It was proven in 2006 that this phase, created by pressurizing O\\n2 to 20 GPa, is in fact a rhombohedral O\\n8 cluster. This cluster has the potential to be a much more powerful oxidizer than either O\\n2 or O\\n3 and may therefore be used in rocket fuel. A metallic phase was discovered in 1990 when solid oxygen is subjected to a pressure of above 96 GPa and it was shown in 1998 that at very low temperatures, this phase becomes superconducting.\", 'id': 'd78d2494-21a9-4618-9673-650acac1e2fa', 'score': None, 'probability': None, 'question': None, 'meta': {}, 'embedding': None},\n",
       " {'text': \"Newton's Second Law asserts the direct proportionality of acceleration to force and the inverse proportionality of acceleration to mass. Accelerations can be defined through kinematic measurements. However, while kinematics are well-described through reference frame analysis in advanced physics, there are still deep questions that remain as to what is the proper definition of mass. General relativity offers an equivalence between space-time and mass, but lacking a coherent theory of quantum gravity, it is unclear as to how or whether this connection is relevant on microscales. With some justification, Newton's second law can be taken as a quantitative definition of mass by writing the law as an equality; the relative units of force and mass then are fixed.\", 'id': 'ab0a89f6-524e-406e-ab56-e72d7ca3b6d0', 'score': None, 'probability': None, 'question': None, 'meta': {}, 'embedding': None},\n",
       " {'text': 'A deterministic Turing machine is the most basic Turing machine, which uses a fixed set of rules to determine its future actions. A probabilistic Turing machine is a deterministic Turing machine with an extra supply of random bits. The ability to make probabilistic decisions often helps algorithms solve problems more efficiently. Algorithms that use random bits are called randomized algorithms. A non-deterministic Turing machine is a deterministic Turing machine with an added feature of non-determinism, which allows a Turing machine to have multiple possible future actions from a given state. One way to view non-determinism is that the Turing machine branches into many possible computational paths at each step, and if it solves the problem in any of these branches, it is said to have solved the problem. Clearly, this model is not meant to be a physically realizable model, it is just a theoretically interesting abstract machine that gives rise to particularly interesting complexity classes. For examples, see non-deterministic algorithm.', 'id': '6e34b7dc-05d3-4a9e-aedc-dc5c1f24a6b9', 'score': None, 'probability': None, 'question': None, 'meta': {}, 'embedding': None}]"
      ]
     },
     "execution_count": 20,
     "metadata": {},
     "output_type": "execute_result"
    }
   ],
   "source": [
    "retriever.retrieve(query)"
   ]
  },
  {
   "cell_type": "markdown",
   "id": "still-morrison",
   "metadata": {},
   "source": [
    "Now we're returning a set of relevant documents, without duplicates.\n",
    "\n",
    "Finally, let's return back to the other *sparse retriever* that we can use with Elasticsearch. We already used **TF-IDF**, by switching `TfidfRetriever` for `ElasticsearchRetriever` we can switch to the **BM25** algorithm, which is an *improved* version of **TF-IDF** and is recommended by Haystack.\n",
    "\n",
    "So, let's initialize that and make another query with it."
   ]
  },
  {
   "cell_type": "code",
   "execution_count": 21,
   "id": "coated-judges",
   "metadata": {},
   "outputs": [
    {
     "name": "stderr",
     "output_type": "stream",
     "text": [
      "03/08/2022 09:06:44 - INFO - elasticsearch -   POST http://localhost:9200/squad_docs/_search [status:200 request:0.037s]\n"
     ]
    },
    {
     "data": {
      "text/plain": [
       "[{'text': 'Even though some proofs of complexity-theoretic theorems regularly assume some concrete choice of input encoding, one tries to keep the discussion abstract enough to be independent of the choice of encoding. This can be achieved by ensuring that different representations can be transformed into each other efficiently.', 'id': '44501a50-535f-4899-a3de-f33c719195f8', 'score': 7.8496785, 'probability': 0.7273482036175146, 'question': None, 'meta': {}, 'embedding': None},\n",
       " {'text': 'A computational problem can be viewed as an infinite collection of instances together with a solution for every instance. The input string for a computational problem is referred to as a problem instance, and should not be confused with the problem itself. In computational complexity theory, a problem refers to the abstract question to be solved. In contrast, an instance of this problem is a rather concrete utterance, which can serve as the input for a decision problem. For example, consider the problem of primality testing. The instance is a number (e.g. 15) and the solution is \"yes\" if the number is prime and \"no\" otherwise (in this case \"no\"). Stated another way, the instance is a particular input to the problem, and the solution is the output corresponding to the given input.', 'id': 'c54e04de-e2bc-4340-9e87-a6816725b4d9', 'score': 7.325722, 'probability': 0.7141682545236667, 'question': None, 'meta': {}, 'embedding': None},\n",
       " {'text': 'With modern insights into quantum mechanics and technology that can accelerate particles close to the speed of light, particle physics has devised a Standard Model to describe forces between particles smaller than atoms. The Standard Model predicts that exchanged particles called gauge bosons are the fundamental means by which forces are emitted and absorbed. Only four main interactions are known: in order of decreasing strength, they are: strong, electromagnetic, weak, and gravitational.:2–10:79 High-energy particle physics observations made during the 1970s and 1980s confirmed that the weak and electromagnetic forces are expressions of a more fundamental electroweak interaction.', 'id': '162a986d-fc64-4cd9-8c56-3c0ca7f6959b', 'score': 6.9600377, 'probability': 0.7047466785703709, 'question': None, 'meta': {}, 'embedding': None},\n",
       " {'text': 'A deterministic Turing machine is the most basic Turing machine, which uses a fixed set of rules to determine its future actions. A probabilistic Turing machine is a deterministic Turing machine with an extra supply of random bits. The ability to make probabilistic decisions often helps algorithms solve problems more efficiently. Algorithms that use random bits are called randomized algorithms. A non-deterministic Turing machine is a deterministic Turing machine with an added feature of non-determinism, which allows a Turing machine to have multiple possible future actions from a given state. One way to view non-determinism is that the Turing machine branches into many possible computational paths at each step, and if it solves the problem in any of these branches, it is said to have solved the problem. Clearly, this model is not meant to be a physically realizable model, it is just a theoretically interesting abstract machine that gives rise to particularly interesting complexity classes. For examples, see non-deterministic algorithm.', 'id': '6e34b7dc-05d3-4a9e-aedc-dc5c1f24a6b9', 'score': 6.886833, 'probability': 0.7028390746407944, 'question': None, 'meta': {}, 'embedding': None},\n",
       " {'text': 'Dynamic equilibrium was first described by Galileo who noticed that certain assumptions of Aristotelian physics were contradicted by observations and logic. Galileo realized that simple velocity addition demands that the concept of an \"absolute rest frame\" did not exist. Galileo concluded that motion in a constant velocity was completely equivalent to rest. This was contrary to Aristotle\\'s notion of a \"natural state\" of rest that objects with mass naturally approached. Simple experiments showed that Galileo\\'s understanding of the equivalence of constant velocity and rest were correct. For example, if a mariner dropped a cannonball from the crow\\'s nest of a ship moving at a constant velocity, Aristotelian physics would have the cannonball fall straight down while the ship moved beneath it. Thus, in an Aristotelian universe, the falling cannonball would land behind the foot of the mast of a moving ship. However, when this experiment is actually conducted, the cannonball always falls at the foot of the mast, as if the cannonball knows to travel with the ship despite being separated from it. Since there is no forward horizontal force being applied on the cannonball as it falls, the only conclusion left is that the cannonball continues to move with the same velocity as the boat as it falls. Thus, no force is required to keep the cannonball moving at the constant forward velocity.', 'id': '6b66e3de-6ca4-411b-b897-1bb75984bf4c', 'score': 6.409791, 'probability': 0.6902362189694088, 'question': None, 'meta': {}, 'embedding': None},\n",
       " {'text': 'The notion \"force\" keeps its meaning in quantum mechanics, though one is now dealing with operators instead of classical variables and though the physics is now described by the Schrödinger equation instead of Newtonian equations. This has the consequence that the results of a measurement are now sometimes \"quantized\", i.e. they appear in discrete portions. This is, of course, difficult to imagine in the context of \"forces\". However, the potentials V(x,y,z) or fields, from which the forces generally can be derived, are treated similar to classical position variables, i.e., .', 'id': 'bb5df13d-c50a-4531-8531-fc349dfe5f42', 'score': 6.353814, 'probability': 0.6887381744617833, 'question': None, 'meta': {}, 'embedding': None},\n",
       " {'text': 'The development of fundamental theories for forces proceeded along the lines of unification of disparate ideas. For example, Isaac Newton unified the force responsible for objects falling at the surface of the Earth with the force responsible for the orbits of celestial mechanics in his universal theory of gravitation. Michael Faraday and James Clerk Maxwell demonstrated that electric and magnetic forces were unified through one consistent theory of electromagnetism. In the 20th century, the development of quantum mechanics led to a modern understanding that the first three fundamental forces (all except gravity) are manifestations of matter (fermions) interacting by exchanging virtual particles called gauge bosons. This standard model of particle physics posits a similarity between the forces and led scientists to predict the unification of the weak and electromagnetic forces in electroweak theory subsequently confirmed by observation. The complete formulation of the standard model predicts an as yet unobserved Higgs mechanism, but observations such as neutrino oscillations indicate that the standard model is incomplete. A Grand Unified Theory allowing for the combination of the electroweak interaction with the strong force is held out as a possibility with candidate theories such as supersymmetry proposed to accommodate some of the outstanding unsolved problems in physics. Physicists are still attempting to develop self-consistent unification models that would combine all four fundamental interactions into a theory of everything. Einstein tried and failed at this endeavor, but currently the most popular approach to answering this question is string theory.:212–219', 'id': 'd8fc0f5a-d781-4f0c-a03f-bbdc86f0f150', 'score': 6.1289005, 'probability': 0.6826793636295646, 'question': None, 'meta': {}, 'embedding': None},\n",
       " {'text': 'However, some computational problems are easier to analyze in terms of more unusual resources. For example, a non-deterministic Turing machine is a computational model that is allowed to branch out to check many different possibilities at once. The non-deterministic Turing machine has very little to do with how we physically want to compute algorithms, but its branching exactly captures many of the mathematical models we want to analyze, so that non-deterministic time is a very important resource in analyzing computational problems.', 'id': 'f967a09a-d3ef-4079-b100-a4456d8611f5', 'score': 6.0682583, 'probability': 0.6810349927361435, 'question': None, 'meta': {}, 'embedding': None},\n",
       " {'text': \"Newton's Second Law asserts the direct proportionality of acceleration to force and the inverse proportionality of acceleration to mass. Accelerations can be defined through kinematic measurements. However, while kinematics are well-described through reference frame analysis in advanced physics, there are still deep questions that remain as to what is the proper definition of mass. General relativity offers an equivalence between space-time and mass, but lacking a coherent theory of quantum gravity, it is unclear as to how or whether this connection is relevant on microscales. With some justification, Newton's second law can be taken as a quantitative definition of mass by writing the law as an equality; the relative units of force and mass then are fixed.\", 'id': 'ab0a89f6-524e-406e-ab56-e72d7ca3b6d0', 'score': 5.957543, 'probability': 0.6780212052349309, 'question': None, 'meta': {}, 'embedding': None},\n",
       " {'text': 'Subject Committees are established at the beginning of each parliamentary session, and again the members on each committee reflect the balance of parties across Parliament. Typically each committee corresponds with one (or more) of the departments (or ministries) of the Scottish Government. The current Subject Committees in the fourth Session are: Economy, Energy and Tourism; Education and Culture; Health and Sport; Justice; Local Government and Regeneration; Rural Affairs, Climate Change and Environment; Welfare Reform; and Infrastructure and Capital Investment.', 'id': '62399b2b-2dc8-4834-a706-b0cfe8b42a4c', 'score': 5.9266386, 'probability': 0.6771772894598249, 'question': None, 'meta': {}, 'embedding': None}]"
      ]
     },
     "execution_count": 21,
     "metadata": {},
     "output_type": "execute_result"
    }
   ],
   "source": [
    "# import BM25 retriever\n",
    "from haystack.retriever.sparse import ElasticsearchRetriever\n",
    "\n",
    "# intialize\n",
    "retriever = ElasticsearchRetriever(document_store)\n",
    "\n",
    "# and query\n",
    "retriever.retrieve(query)"
   ]
  },
  {
   "cell_type": "markdown",
   "id": "cooperative-conditions",
   "metadata": {},
   "source": [
    "Okay great, this is a pretty big notebook but it covers everything we need to know to get started with Haystack + Elastic (and a little more)."
   ]
  }
 ],
 "metadata": {
  "interpreter": {
   "hash": "c30f2af5f468e7f5b45bcc30fca5f4886c90d54777aed916ed5f6294dfb24bf2"
  },
  "kernelspec": {
   "display_name": "ML",
   "language": "python",
   "name": "ml"
  },
  "language_info": {
   "codemirror_mode": {
    "name": "ipython",
    "version": 3
   },
   "file_extension": ".py",
   "mimetype": "text/x-python",
   "name": "python",
   "nbconvert_exporter": "python",
   "pygments_lexer": "ipython3",
   "version": "3.8.5"
  }
 },
 "nbformat": 4,
 "nbformat_minor": 5
}
