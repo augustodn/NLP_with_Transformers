{
 "cells": [
  {
   "cell_type": "markdown",
   "metadata": {},
   "source": [
    "# Using NER to Tag Data\n",
    "\n",
    "We are using the dataset pulled from */r/investing* and the SpaCy NER code covered in the previous sections."
   ]
  },
  {
   "cell_type": "code",
   "execution_count": 1,
   "metadata": {},
   "outputs": [],
   "source": [
    "import spacy\n",
    "import pandas as pd\n",
    "\n",
    "nlp = spacy.load('en_core_web_sm')"
   ]
  },
  {
   "cell_type": "markdown",
   "metadata": {},
   "source": [
    "The NER code will be reformated into a function that will consume a length of text, and return a list of mentioned organizations:"
   ]
  },
  {
   "cell_type": "code",
   "execution_count": 5,
   "metadata": {},
   "outputs": [],
   "source": [
    "def get_orgs(text):\n",
    "    # process the text with our SpaCy model to get named entities\n",
    "    text = str(text)\n",
    "    doc = nlp(text)\n",
    "    # initialize list to store identified organizations\n",
    "    org_list = []\n",
    "    # loop through the identified entities and append ORG entities to org_list\n",
    "    for entity in doc.ents:\n",
    "        if entity.label_ == 'ORG':\n",
    "            org_list.append(entity.text)\n",
    "    # if organization is identified more than once it will appear multiple times in list\n",
    "    # we use set() to remove duplicates then convert back to list\n",
    "    org_list = list(set(org_list))\n",
    "    return org_list"
   ]
  },
  {
   "cell_type": "markdown",
   "metadata": {},
   "source": [
    "## Applying NER\n",
    "\n",
    "All we need to do now is load in the */r/investing* data and apply the `get_orgs` function to our text column to create a new `organizations` column.\n",
    "\n",
    "1. Load the data and view the top five rows with `df.head()`:"
   ]
  },
  {
   "cell_type": "code",
   "execution_count": 3,
   "metadata": {},
   "outputs": [
    {
     "data": {
      "text/html": [
       "<div>\n",
       "<style scoped>\n",
       "    .dataframe tbody tr th:only-of-type {\n",
       "        vertical-align: middle;\n",
       "    }\n",
       "\n",
       "    .dataframe tbody tr th {\n",
       "        vertical-align: top;\n",
       "    }\n",
       "\n",
       "    .dataframe thead th {\n",
       "        text-align: right;\n",
       "    }\n",
       "</style>\n",
       "<table border=\"1\" class=\"dataframe\">\n",
       "  <thead>\n",
       "    <tr style=\"text-align: right;\">\n",
       "      <th></th>\n",
       "      <th>created_utc</th>\n",
       "      <th>downs</th>\n",
       "      <th>id</th>\n",
       "      <th>score</th>\n",
       "      <th>selftext</th>\n",
       "      <th>subreddit</th>\n",
       "      <th>title</th>\n",
       "      <th>ups</th>\n",
       "      <th>upvote_ratio</th>\n",
       "    </tr>\n",
       "  </thead>\n",
       "  <tbody>\n",
       "    <tr>\n",
       "      <th>0</th>\n",
       "      <td>1.646144e+09</td>\n",
       "      <td>0.0</td>\n",
       "      <td>t3_t48xbu</td>\n",
       "      <td>1.0</td>\n",
       "      <td>My 9yr old wants to invest his 300$ so he can ...</td>\n",
       "      <td>investing</td>\n",
       "      <td>Investment options for children?</td>\n",
       "      <td>1.0</td>\n",
       "      <td>1.00</td>\n",
       "    </tr>\n",
       "    <tr>\n",
       "      <th>1</th>\n",
       "      <td>1.646130e+09</td>\n",
       "      <td>0.0</td>\n",
       "      <td>t3_t44pro</td>\n",
       "      <td>597.0</td>\n",
       "      <td>Again, the world's major chip and semiconducto...</td>\n",
       "      <td>investing</td>\n",
       "      <td>Ukraine supplies 70% of the world's neon. Chip...</td>\n",
       "      <td>597.0</td>\n",
       "      <td>0.95</td>\n",
       "    </tr>\n",
       "    <tr>\n",
       "      <th>2</th>\n",
       "      <td>1.646129e+09</td>\n",
       "      <td>0.0</td>\n",
       "      <td>t3_t44j5g</td>\n",
       "      <td>2.0</td>\n",
       "      <td>Have a general question?  Want to offer some c...</td>\n",
       "      <td>investing</td>\n",
       "      <td>Daily General Discussion and Advice Thread - M...</td>\n",
       "      <td>2.0</td>\n",
       "      <td>0.76</td>\n",
       "    </tr>\n",
       "    <tr>\n",
       "      <th>3</th>\n",
       "      <td>1.646091e+09</td>\n",
       "      <td>0.0</td>\n",
       "      <td>t3_t3t1i6</td>\n",
       "      <td>15.0</td>\n",
       "      <td>Can someone explain how/why something like the...</td>\n",
       "      <td>investing</td>\n",
       "      <td>How would the RSX get Delisted?</td>\n",
       "      <td>15.0</td>\n",
       "      <td>0.77</td>\n",
       "    </tr>\n",
       "    <tr>\n",
       "      <th>4</th>\n",
       "      <td>1.646075e+09</td>\n",
       "      <td>0.0</td>\n",
       "      <td>t3_t3n3cz</td>\n",
       "      <td>0.0</td>\n",
       "      <td>Many years ago I had money put in DODBX for me...</td>\n",
       "      <td>investing</td>\n",
       "      <td>trying to figure DODBX out</td>\n",
       "      <td>0.0</td>\n",
       "      <td>0.14</td>\n",
       "    </tr>\n",
       "  </tbody>\n",
       "</table>\n",
       "</div>"
      ],
      "text/plain": [
       "    created_utc  downs         id  score  \\\n",
       "0  1.646144e+09    0.0  t3_t48xbu    1.0   \n",
       "1  1.646130e+09    0.0  t3_t44pro  597.0   \n",
       "2  1.646129e+09    0.0  t3_t44j5g    2.0   \n",
       "3  1.646091e+09    0.0  t3_t3t1i6   15.0   \n",
       "4  1.646075e+09    0.0  t3_t3n3cz    0.0   \n",
       "\n",
       "                                            selftext  subreddit  \\\n",
       "0  My 9yr old wants to invest his 300$ so he can ...  investing   \n",
       "1  Again, the world's major chip and semiconducto...  investing   \n",
       "2  Have a general question?  Want to offer some c...  investing   \n",
       "3  Can someone explain how/why something like the...  investing   \n",
       "4  Many years ago I had money put in DODBX for me...  investing   \n",
       "\n",
       "                                               title    ups  upvote_ratio  \n",
       "0                   Investment options for children?    1.0          1.00  \n",
       "1  Ukraine supplies 70% of the world's neon. Chip...  597.0          0.95  \n",
       "2  Daily General Discussion and Advice Thread - M...    2.0          0.76  \n",
       "3                    How would the RSX get Delisted?   15.0          0.77  \n",
       "4                         trying to figure DODBX out    0.0          0.14  "
      ]
     },
     "execution_count": 3,
     "metadata": {},
     "output_type": "execute_result"
    }
   ],
   "source": [
    "df = pd.read_csv('./data/reddit_investing.csv', sep='|')\n",
    "df.head()"
   ]
  },
  {
   "cell_type": "markdown",
   "metadata": {},
   "source": [
    "2. Extract mentioned organizations from `selftext` and add to a new column called `organizations`:"
   ]
  },
  {
   "cell_type": "code",
   "execution_count": 6,
   "metadata": {},
   "outputs": [
    {
     "data": {
      "text/html": [
       "<div>\n",
       "<style scoped>\n",
       "    .dataframe tbody tr th:only-of-type {\n",
       "        vertical-align: middle;\n",
       "    }\n",
       "\n",
       "    .dataframe tbody tr th {\n",
       "        vertical-align: top;\n",
       "    }\n",
       "\n",
       "    .dataframe thead th {\n",
       "        text-align: right;\n",
       "    }\n",
       "</style>\n",
       "<table border=\"1\" class=\"dataframe\">\n",
       "  <thead>\n",
       "    <tr style=\"text-align: right;\">\n",
       "      <th></th>\n",
       "      <th>created_utc</th>\n",
       "      <th>downs</th>\n",
       "      <th>id</th>\n",
       "      <th>score</th>\n",
       "      <th>selftext</th>\n",
       "      <th>subreddit</th>\n",
       "      <th>title</th>\n",
       "      <th>ups</th>\n",
       "      <th>upvote_ratio</th>\n",
       "      <th>organizations</th>\n",
       "    </tr>\n",
       "  </thead>\n",
       "  <tbody>\n",
       "    <tr>\n",
       "      <th>0</th>\n",
       "      <td>1.646144e+09</td>\n",
       "      <td>0.0</td>\n",
       "      <td>t3_t48xbu</td>\n",
       "      <td>1.0</td>\n",
       "      <td>My 9yr old wants to invest his 300$ so he can ...</td>\n",
       "      <td>investing</td>\n",
       "      <td>Investment options for children?</td>\n",
       "      <td>1.0</td>\n",
       "      <td>1.00</td>\n",
       "      <td>[]</td>\n",
       "    </tr>\n",
       "    <tr>\n",
       "      <th>1</th>\n",
       "      <td>1.646130e+09</td>\n",
       "      <td>0.0</td>\n",
       "      <td>t3_t44pro</td>\n",
       "      <td>597.0</td>\n",
       "      <td>Again, the world's major chip and semiconducto...</td>\n",
       "      <td>investing</td>\n",
       "      <td>Ukraine supplies 70% of the world's neon. Chip...</td>\n",
       "      <td>597.0</td>\n",
       "      <td>0.95</td>\n",
       "      <td>[]</td>\n",
       "    </tr>\n",
       "    <tr>\n",
       "      <th>2</th>\n",
       "      <td>1.646129e+09</td>\n",
       "      <td>0.0</td>\n",
       "      <td>t3_t44j5g</td>\n",
       "      <td>2.0</td>\n",
       "      <td>Have a general question?  Want to offer some c...</td>\n",
       "      <td>investing</td>\n",
       "      <td>Daily General Discussion and Advice Thread - M...</td>\n",
       "      <td>2.0</td>\n",
       "      <td>0.76</td>\n",
       "      <td>[]</td>\n",
       "    </tr>\n",
       "    <tr>\n",
       "      <th>3</th>\n",
       "      <td>1.646091e+09</td>\n",
       "      <td>0.0</td>\n",
       "      <td>t3_t3t1i6</td>\n",
       "      <td>15.0</td>\n",
       "      <td>Can someone explain how/why something like the...</td>\n",
       "      <td>investing</td>\n",
       "      <td>How would the RSX get Delisted?</td>\n",
       "      <td>15.0</td>\n",
       "      <td>0.77</td>\n",
       "      <td>[ADR, E-Trade, RSX]</td>\n",
       "    </tr>\n",
       "    <tr>\n",
       "      <th>4</th>\n",
       "      <td>1.646075e+09</td>\n",
       "      <td>0.0</td>\n",
       "      <td>t3_t3n3cz</td>\n",
       "      <td>0.0</td>\n",
       "      <td>Many years ago I had money put in DODBX for me...</td>\n",
       "      <td>investing</td>\n",
       "      <td>trying to figure DODBX out</td>\n",
       "      <td>0.0</td>\n",
       "      <td>0.14</td>\n",
       "      <td>[]</td>\n",
       "    </tr>\n",
       "  </tbody>\n",
       "</table>\n",
       "</div>"
      ],
      "text/plain": [
       "    created_utc  downs         id  score  \\\n",
       "0  1.646144e+09    0.0  t3_t48xbu    1.0   \n",
       "1  1.646130e+09    0.0  t3_t44pro  597.0   \n",
       "2  1.646129e+09    0.0  t3_t44j5g    2.0   \n",
       "3  1.646091e+09    0.0  t3_t3t1i6   15.0   \n",
       "4  1.646075e+09    0.0  t3_t3n3cz    0.0   \n",
       "\n",
       "                                            selftext  subreddit  \\\n",
       "0  My 9yr old wants to invest his 300$ so he can ...  investing   \n",
       "1  Again, the world's major chip and semiconducto...  investing   \n",
       "2  Have a general question?  Want to offer some c...  investing   \n",
       "3  Can someone explain how/why something like the...  investing   \n",
       "4  Many years ago I had money put in DODBX for me...  investing   \n",
       "\n",
       "                                               title    ups  upvote_ratio  \\\n",
       "0                   Investment options for children?    1.0          1.00   \n",
       "1  Ukraine supplies 70% of the world's neon. Chip...  597.0          0.95   \n",
       "2  Daily General Discussion and Advice Thread - M...    2.0          0.76   \n",
       "3                    How would the RSX get Delisted?   15.0          0.77   \n",
       "4                         trying to figure DODBX out    0.0          0.14   \n",
       "\n",
       "         organizations  \n",
       "0                   []  \n",
       "1                   []  \n",
       "2                   []  \n",
       "3  [ADR, E-Trade, RSX]  \n",
       "4                   []  "
      ]
     },
     "execution_count": 6,
     "metadata": {},
     "output_type": "execute_result"
    }
   ],
   "source": [
    "df['organizations'] = df['selftext'].apply(get_orgs)\n",
    "df.head()"
   ]
  },
  {
   "cell_type": "markdown",
   "metadata": {},
   "source": [
    "*(This step can take a long time to run. It can be useful to break larger datasets into more manageable chunks if required)*\n",
    "\n",
    "Now we have a list of all mentioned organizations contained within the `organizations` column. We will now take the full column, merge each list, and use `Counter` to create a frequency table of organization mentions."
   ]
  },
  {
   "cell_type": "code",
   "execution_count": 15,
   "metadata": {},
   "outputs": [
    {
     "data": {
      "text/plain": [
       "['ADR',\n",
       " 'E-Trade',\n",
       " 'RSX',\n",
       " 'Gydan',\n",
       " 'The Board of Shell',\n",
       " 'Nord Stream',\n",
       " 'https://www.shell.com/media/news-and-media-releases/2022/shell-intends-to-exit-equity-partnerships-held-with-gazprom-entities.html\\n&',\n",
       " 'Shell',\n",
       " 'the Salym Petroleum Development',\n",
       " 'ACH']"
      ]
     },
     "execution_count": 15,
     "metadata": {},
     "output_type": "execute_result"
    }
   ],
   "source": [
    "# merge organizations column into one big list\n",
    "orgs = df['organizations'].to_list()\n",
    "orgs = [org for sublist in orgs for org in sublist]\n",
    "orgs[:10]"
   ]
  },
  {
   "cell_type": "code",
   "execution_count": 8,
   "metadata": {},
   "outputs": [],
   "source": [
    "from collections import Counter"
   ]
  },
  {
   "cell_type": "code",
   "execution_count": 16,
   "metadata": {},
   "outputs": [],
   "source": [
    "# create dictionary of organization mention frequency\n",
    "org_freq = Counter(orgs)"
   ]
  },
  {
   "cell_type": "markdown",
   "metadata": {},
   "source": [
    "We now have a *Counter* dictionary containing all of our organization labels as *keys*, and their mention frequency as *values*. The `most_common(n)` method allows us to view the **n** most frequently mentioned organizations:"
   ]
  },
  {
   "cell_type": "code",
   "execution_count": 17,
   "metadata": {},
   "outputs": [
    {
     "data": {
      "text/plain": [
       "[('Fed', 32),\n",
       " ('Fidelity', 19),\n",
       " ('Amazon', 19),\n",
       " ('EPS', 16),\n",
       " ('Apple', 15),\n",
       " ('SPY', 14),\n",
       " ('Microsoft', 14),\n",
       " ('Vanguard', 12),\n",
       " ('NASDAQ', 11),\n",
       " ('EU', 10)]"
      ]
     },
     "execution_count": 17,
     "metadata": {},
     "output_type": "execute_result"
    }
   ],
   "source": [
    "org_freq.most_common(10)"
   ]
  },
  {
   "cell_type": "markdown",
   "metadata": {},
   "source": [
    "Clearly there is a need to do some further pruning of the data to remove non-organization labels like *EV* (electric vehicle), *COVID*, *ETF* (exchange trading fund), *NYSE*, and *SPAC* (special acquisition company). Depending on the use-case it may even be useful to keep a few of these, or remove a few others like *SEC* and *FDA*.\n",
    "\n",
    "To do this, we would create a custom list and implement it in our `get_orgs` function like so:"
   ]
  },
  {
   "cell_type": "code",
   "execution_count": 13,
   "metadata": {},
   "outputs": [],
   "source": [
    "BLACKLIST = ['ev', 'covid', 'etf', 'nyse', 'sec', 'spac', 'fda']\n",
    "\n",
    "def get_orgs(text):\n",
    "    doc = nlp(str(text))\n",
    "    org_list = []\n",
    "    for entity in doc.ents:\n",
    "        # here we modify the original code to check that entity text is not equal to one of our 'blacklisted' organizations\n",
    "        # (we also add .lower() to lowercase the text, this allows us to match both 'nyse' and 'NYSE' with just 'nyse')\n",
    "        if entity.label_ == 'ORG' and entity.text.lower() not in BLACKLIST:\n",
    "            org_list.append(entity.text)\n",
    "    # if organization is identified more than once it will appear multiple times in list\n",
    "    # we use set() to remove duplicates then convert back to list\n",
    "    org_list = list(set(org_list))\n",
    "    return org_list"
   ]
  },
  {
   "cell_type": "markdown",
   "metadata": {},
   "source": [
    "If we then apply this new `get_org` function to our dataframe we will see that *ETF* that originally appeared alongside *ARK* in the second row is no longer included:"
   ]
  },
  {
   "cell_type": "code",
   "execution_count": 14,
   "metadata": {},
   "outputs": [
    {
     "data": {
      "text/html": [
       "<div>\n",
       "<style scoped>\n",
       "    .dataframe tbody tr th:only-of-type {\n",
       "        vertical-align: middle;\n",
       "    }\n",
       "\n",
       "    .dataframe tbody tr th {\n",
       "        vertical-align: top;\n",
       "    }\n",
       "\n",
       "    .dataframe thead th {\n",
       "        text-align: right;\n",
       "    }\n",
       "</style>\n",
       "<table border=\"1\" class=\"dataframe\">\n",
       "  <thead>\n",
       "    <tr style=\"text-align: right;\">\n",
       "      <th></th>\n",
       "      <th>created_utc</th>\n",
       "      <th>downs</th>\n",
       "      <th>id</th>\n",
       "      <th>score</th>\n",
       "      <th>selftext</th>\n",
       "      <th>subreddit</th>\n",
       "      <th>title</th>\n",
       "      <th>ups</th>\n",
       "      <th>upvote_ratio</th>\n",
       "      <th>organizations</th>\n",
       "    </tr>\n",
       "  </thead>\n",
       "  <tbody>\n",
       "    <tr>\n",
       "      <th>0</th>\n",
       "      <td>1.646144e+09</td>\n",
       "      <td>0.0</td>\n",
       "      <td>t3_t48xbu</td>\n",
       "      <td>1.0</td>\n",
       "      <td>My 9yr old wants to invest his 300$ so he can ...</td>\n",
       "      <td>investing</td>\n",
       "      <td>Investment options for children?</td>\n",
       "      <td>1.0</td>\n",
       "      <td>1.00</td>\n",
       "      <td>[]</td>\n",
       "    </tr>\n",
       "    <tr>\n",
       "      <th>1</th>\n",
       "      <td>1.646130e+09</td>\n",
       "      <td>0.0</td>\n",
       "      <td>t3_t44pro</td>\n",
       "      <td>597.0</td>\n",
       "      <td>Again, the world's major chip and semiconducto...</td>\n",
       "      <td>investing</td>\n",
       "      <td>Ukraine supplies 70% of the world's neon. Chip...</td>\n",
       "      <td>597.0</td>\n",
       "      <td>0.95</td>\n",
       "      <td>[]</td>\n",
       "    </tr>\n",
       "    <tr>\n",
       "      <th>2</th>\n",
       "      <td>1.646129e+09</td>\n",
       "      <td>0.0</td>\n",
       "      <td>t3_t44j5g</td>\n",
       "      <td>2.0</td>\n",
       "      <td>Have a general question?  Want to offer some c...</td>\n",
       "      <td>investing</td>\n",
       "      <td>Daily General Discussion and Advice Thread - M...</td>\n",
       "      <td>2.0</td>\n",
       "      <td>0.76</td>\n",
       "      <td>[]</td>\n",
       "    </tr>\n",
       "    <tr>\n",
       "      <th>3</th>\n",
       "      <td>1.646091e+09</td>\n",
       "      <td>0.0</td>\n",
       "      <td>t3_t3t1i6</td>\n",
       "      <td>15.0</td>\n",
       "      <td>Can someone explain how/why something like the...</td>\n",
       "      <td>investing</td>\n",
       "      <td>How would the RSX get Delisted?</td>\n",
       "      <td>15.0</td>\n",
       "      <td>0.77</td>\n",
       "      <td>[ADR, E-Trade, RSX]</td>\n",
       "    </tr>\n",
       "    <tr>\n",
       "      <th>4</th>\n",
       "      <td>1.646075e+09</td>\n",
       "      <td>0.0</td>\n",
       "      <td>t3_t3n3cz</td>\n",
       "      <td>0.0</td>\n",
       "      <td>Many years ago I had money put in DODBX for me...</td>\n",
       "      <td>investing</td>\n",
       "      <td>trying to figure DODBX out</td>\n",
       "      <td>0.0</td>\n",
       "      <td>0.14</td>\n",
       "      <td>[]</td>\n",
       "    </tr>\n",
       "  </tbody>\n",
       "</table>\n",
       "</div>"
      ],
      "text/plain": [
       "    created_utc  downs         id  score  \\\n",
       "0  1.646144e+09    0.0  t3_t48xbu    1.0   \n",
       "1  1.646130e+09    0.0  t3_t44pro  597.0   \n",
       "2  1.646129e+09    0.0  t3_t44j5g    2.0   \n",
       "3  1.646091e+09    0.0  t3_t3t1i6   15.0   \n",
       "4  1.646075e+09    0.0  t3_t3n3cz    0.0   \n",
       "\n",
       "                                            selftext  subreddit  \\\n",
       "0  My 9yr old wants to invest his 300$ so he can ...  investing   \n",
       "1  Again, the world's major chip and semiconducto...  investing   \n",
       "2  Have a general question?  Want to offer some c...  investing   \n",
       "3  Can someone explain how/why something like the...  investing   \n",
       "4  Many years ago I had money put in DODBX for me...  investing   \n",
       "\n",
       "                                               title    ups  upvote_ratio  \\\n",
       "0                   Investment options for children?    1.0          1.00   \n",
       "1  Ukraine supplies 70% of the world's neon. Chip...  597.0          0.95   \n",
       "2  Daily General Discussion and Advice Thread - M...    2.0          0.76   \n",
       "3                    How would the RSX get Delisted?   15.0          0.77   \n",
       "4                         trying to figure DODBX out    0.0          0.14   \n",
       "\n",
       "         organizations  \n",
       "0                   []  \n",
       "1                   []  \n",
       "2                   []  \n",
       "3  [ADR, E-Trade, RSX]  \n",
       "4                   []  "
      ]
     },
     "execution_count": 14,
     "metadata": {},
     "output_type": "execute_result"
    }
   ],
   "source": [
    "df['organizations'] = df['selftext'].apply(get_orgs)\n",
    "df.head()"
   ]
  },
  {
   "cell_type": "markdown",
   "metadata": {},
   "source": [
    "We can save our dataframe with the new *organizations* column to file for later use."
   ]
  },
  {
   "cell_type": "code",
   "execution_count": 18,
   "metadata": {},
   "outputs": [],
   "source": [
    "df.to_csv('./data/processed/reddit_investing_ner.csv', sep='|', index=False)"
   ]
  },
  {
   "cell_type": "code",
   "execution_count": null,
   "metadata": {},
   "outputs": [],
   "source": []
  }
 ],
 "metadata": {
  "interpreter": {
   "hash": "d905c6a59c21f0f46be93fdc832728644d115a3fdfd57971d06d899b53e0576e"
  },
  "kernelspec": {
   "display_name": "NLP",
   "language": "python",
   "name": "python3"
  },
  "language_info": {
   "codemirror_mode": {
    "name": "ipython",
    "version": 3
   },
   "file_extension": ".py",
   "mimetype": "text/x-python",
   "name": "python",
   "nbconvert_exporter": "python",
   "pygments_lexer": "ipython3",
   "version": "3.8.5"
  }
 },
 "nbformat": 4,
 "nbformat_minor": 4
}
