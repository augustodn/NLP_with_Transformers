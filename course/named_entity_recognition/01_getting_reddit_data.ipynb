{
 "cells": [
  {
   "cell_type": "markdown",
   "metadata": {},
   "source": [
    "# Getting Reddit Data\n",
    "\n",
    "There are two options for extracting data from Reddit:\n",
    "\n",
    "* The `requests` library, which will allow us to interface directly with the Reddit API.\n",
    "\n",
    "* The PRAW library, which is a wrapper library that adds an extra layer of abstraction in accessing the Reddit API.\n",
    "\n",
    "Here we will cover the first option, using the `requests` library to interface directly with the API.\n",
    "\n",
    "The final extraction script will look like this:"
   ]
  },
  {
   "cell_type": "code",
   "execution_count": 18,
   "metadata": {},
   "outputs": [],
   "source": [
    "import requests\n",
    "import pandas as pd\n",
    "\n",
    "\n",
    "class Reddit:\n",
    "    def __init__(self, client_id, secret_token, username, password):\n",
    "        # first create authentication object\n",
    "        auth = requests.auth.HTTPBasicAuth(client_id, secret_token)\n",
    "        # build login dictionary\n",
    "        login = {'grant_type': 'password',\n",
    "                 'username': username,\n",
    "                 'password': password}\n",
    "        # setup header info (incl description of API)\n",
    "        headers = {'User-Agent': 'MyBot/0.0.1'}\n",
    "        # send request for OAuth token\n",
    "        res = requests.post(f'https://www.reddit.com/api/v1/access_token',\n",
    "                            auth=auth, data=login, headers=headers)\n",
    "        # pull auth bearer token from response\n",
    "        token = res.json()['access_token']\n",
    "        # add authorization to headers dictionary\n",
    "        headers['Authorization'] = f'bearer {token}'\n",
    "        # add headers dict to internal attributes\n",
    "        self.headers = headers\n",
    "        # and api\n",
    "        self.api = 'https://oauth.reddit.com'\n",
    "\n",
    "    def get_new(self, subreddit, iters):\n",
    "        # initialize dataframe to store data\n",
    "        df = pd.DataFrame()\n",
    "        # initialize parameters dictionary\n",
    "        params = {'limit': 100}\n",
    "        # iterate through several times to make sure we get all the data available\n",
    "        for i in range(iters):\n",
    "            # make request\n",
    "            res = requests.get(f'{self.api}/r/{subreddit}/new',\n",
    "                               headers=self.headers,\n",
    "                               params=params)\n",
    "            # check that we returned something (if not we reached end)\n",
    "            if len(res.json()['data']['children']) == 0:\n",
    "                print('No more found')\n",
    "                return df\n",
    "            # iterate through each thread recieved\n",
    "            for thread in res.json()['data']['children']:\n",
    "                # add info to dataframe\n",
    "                df = df.append({\n",
    "                    'id': thread['data']['name'],\n",
    "                    'created_utc': int(thread['data']['created_utc']),\n",
    "                    'subreddit': thread['data']['subreddit'],\n",
    "                    'title': thread['data']['title'],\n",
    "                    'selftext': thread['data']['selftext'],\n",
    "                    'upvote_ratio': thread['data']['upvote_ratio'],\n",
    "                    'ups': thread['data']['ups'],\n",
    "                    'downs': thread['data']['downs'],\n",
    "                    'score': thread['data']['score']\n",
    "                }, ignore_index=True)\n",
    "            # get earliest ID\n",
    "            earliest = df['id'].iloc[len(df)-1]\n",
    "            # add earliest ID to params\n",
    "            params['after'] = earliest\n",
    "        return df"
   ]
  },
  {
   "cell_type": "code",
   "execution_count": 19,
   "metadata": {},
   "outputs": [],
   "source": [
    "SUB = 'investing'"
   ]
  },
  {
   "cell_type": "code",
   "execution_count": 20,
   "metadata": {},
   "outputs": [],
   "source": [
    "# Load credentials\n",
    "import json\n",
    "f = open('reddit_tkn.json')\n",
    "tkn = json.load(f)"
   ]
  },
  {
   "cell_type": "code",
   "execution_count": 21,
   "metadata": {},
   "outputs": [],
   "source": [
    "reddit = Reddit(tkn['client_id'], tkn['secret_token'], tkn['user'], tkn['pwd'])"
   ]
  },
  {
   "cell_type": "code",
   "execution_count": 22,
   "metadata": {},
   "outputs": [
    {
     "name": "stdout",
     "output_type": "stream",
     "text": [
      "No more found\n"
     ]
    }
   ],
   "source": [
    "data = reddit.get_new(SUB, 20)"
   ]
  },
  {
   "cell_type": "code",
   "execution_count": 25,
   "metadata": {},
   "outputs": [
    {
     "data": {
      "text/html": [
       "<div>\n",
       "<style scoped>\n",
       "    .dataframe tbody tr th:only-of-type {\n",
       "        vertical-align: middle;\n",
       "    }\n",
       "\n",
       "    .dataframe tbody tr th {\n",
       "        vertical-align: top;\n",
       "    }\n",
       "\n",
       "    .dataframe thead th {\n",
       "        text-align: right;\n",
       "    }\n",
       "</style>\n",
       "<table border=\"1\" class=\"dataframe\">\n",
       "  <thead>\n",
       "    <tr style=\"text-align: right;\">\n",
       "      <th></th>\n",
       "      <th>created_utc</th>\n",
       "      <th>downs</th>\n",
       "      <th>id</th>\n",
       "      <th>score</th>\n",
       "      <th>selftext</th>\n",
       "      <th>subreddit</th>\n",
       "      <th>title</th>\n",
       "      <th>ups</th>\n",
       "      <th>upvote_ratio</th>\n",
       "    </tr>\n",
       "  </thead>\n",
       "  <tbody>\n",
       "    <tr>\n",
       "      <th>0</th>\n",
       "      <td>1.646144e+09</td>\n",
       "      <td>0.0</td>\n",
       "      <td>t3_t48xbu</td>\n",
       "      <td>1.0</td>\n",
       "      <td>My 9yr old wants to invest his 300$ so he can ...</td>\n",
       "      <td>investing</td>\n",
       "      <td>Investment options for children?</td>\n",
       "      <td>1.0</td>\n",
       "      <td>1.00</td>\n",
       "    </tr>\n",
       "    <tr>\n",
       "      <th>1</th>\n",
       "      <td>1.646130e+09</td>\n",
       "      <td>0.0</td>\n",
       "      <td>t3_t44pro</td>\n",
       "      <td>597.0</td>\n",
       "      <td>Again, the world's major chip and semiconducto...</td>\n",
       "      <td>investing</td>\n",
       "      <td>Ukraine supplies 70% of the world's neon. Chip...</td>\n",
       "      <td>597.0</td>\n",
       "      <td>0.95</td>\n",
       "    </tr>\n",
       "    <tr>\n",
       "      <th>2</th>\n",
       "      <td>1.646129e+09</td>\n",
       "      <td>0.0</td>\n",
       "      <td>t3_t44j5g</td>\n",
       "      <td>2.0</td>\n",
       "      <td>Have a general question?  Want to offer some c...</td>\n",
       "      <td>investing</td>\n",
       "      <td>Daily General Discussion and Advice Thread - M...</td>\n",
       "      <td>2.0</td>\n",
       "      <td>0.76</td>\n",
       "    </tr>\n",
       "    <tr>\n",
       "      <th>3</th>\n",
       "      <td>1.646091e+09</td>\n",
       "      <td>0.0</td>\n",
       "      <td>t3_t3t1i6</td>\n",
       "      <td>15.0</td>\n",
       "      <td>Can someone explain how/why something like the...</td>\n",
       "      <td>investing</td>\n",
       "      <td>How would the RSX get Delisted?</td>\n",
       "      <td>15.0</td>\n",
       "      <td>0.77</td>\n",
       "    </tr>\n",
       "    <tr>\n",
       "      <th>4</th>\n",
       "      <td>1.646075e+09</td>\n",
       "      <td>0.0</td>\n",
       "      <td>t3_t3n3cz</td>\n",
       "      <td>0.0</td>\n",
       "      <td>Many years ago I had money put in DODBX for me...</td>\n",
       "      <td>investing</td>\n",
       "      <td>trying to figure DODBX out</td>\n",
       "      <td>0.0</td>\n",
       "      <td>0.14</td>\n",
       "    </tr>\n",
       "  </tbody>\n",
       "</table>\n",
       "</div>"
      ],
      "text/plain": [
       "    created_utc  downs         id  score  \\\n",
       "0  1.646144e+09    0.0  t3_t48xbu    1.0   \n",
       "1  1.646130e+09    0.0  t3_t44pro  597.0   \n",
       "2  1.646129e+09    0.0  t3_t44j5g    2.0   \n",
       "3  1.646091e+09    0.0  t3_t3t1i6   15.0   \n",
       "4  1.646075e+09    0.0  t3_t3n3cz    0.0   \n",
       "\n",
       "                                            selftext  subreddit  \\\n",
       "0  My 9yr old wants to invest his 300$ so he can ...  investing   \n",
       "1  Again, the world's major chip and semiconducto...  investing   \n",
       "2  Have a general question?  Want to offer some c...  investing   \n",
       "3  Can someone explain how/why something like the...  investing   \n",
       "4  Many years ago I had money put in DODBX for me...  investing   \n",
       "\n",
       "                                               title    ups  upvote_ratio  \n",
       "0                   Investment options for children?    1.0          1.00  \n",
       "1  Ukraine supplies 70% of the world's neon. Chip...  597.0          0.95  \n",
       "2  Daily General Discussion and Advice Thread - M...    2.0          0.76  \n",
       "3                    How would the RSX get Delisted?   15.0          0.77  \n",
       "4                         trying to figure DODBX out    0.0          0.14  "
      ]
     },
     "execution_count": 25,
     "metadata": {},
     "output_type": "execute_result"
    }
   ],
   "source": [
    "data.head()"
   ]
  },
  {
   "cell_type": "code",
   "execution_count": 23,
   "metadata": {},
   "outputs": [],
   "source": [
    "data = data.replace({'|': ''}, regex=True)"
   ]
  },
  {
   "cell_type": "code",
   "execution_count": 24,
   "metadata": {},
   "outputs": [],
   "source": [
    "data.to_csv(f'./data/reddit_{SUB}.csv', sep='|', index=False)"
   ]
  }
 ],
 "metadata": {
  "interpreter": {
   "hash": "d905c6a59c21f0f46be93fdc832728644d115a3fdfd57971d06d899b53e0576e"
  },
  "kernelspec": {
   "display_name": "NLP",
   "language": "python",
   "name": "python3"
  },
  "language_info": {
   "codemirror_mode": {
    "name": "ipython",
    "version": 3
   },
   "file_extension": ".py",
   "mimetype": "text/x-python",
   "name": "python",
   "nbconvert_exporter": "python",
   "pygments_lexer": "ipython3",
   "version": "3.8.5"
  }
 },
 "nbformat": 4,
 "nbformat_minor": 4
}
